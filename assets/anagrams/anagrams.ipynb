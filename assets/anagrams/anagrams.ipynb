{
 "cells": [
  {
   "cell_type": "markdown",
   "metadata": {},
   "source": [
    "# Generating Multi-Word Anagrams with Tries"
   ]
  },
  {
   "cell_type": "markdown",
   "metadata": {},
   "source": [
    "In common usage, an anagram is a word or phrase that can be formed using every letter from another word or phrase. For example, \"astronomer\" is an anagram of \"moon starer\"! How can you easily tell if two words are anagrams? Two words are anagrams if they contain the same letters (counting multiplicity). If we take two words and sort their letters in alphabetical order, then the result will be the same if and only if the two words are anagrams."
   ]
  },
  {
   "cell_type": "code",
   "execution_count": 1,
   "metadata": {},
   "outputs": [],
   "source": [
    "def compare(a, b):\n",
    "    return sorted(a) == sorted(b)"
   ]
  },
  {
   "cell_type": "markdown",
   "metadata": {},
   "source": [
    "Let's compare some words that we know to be anagrams and some that are not."
   ]
  },
  {
   "cell_type": "code",
   "execution_count": 2,
   "metadata": {},
   "outputs": [
    {
     "name": "stdout",
     "output_type": "stream",
     "text": [
      "tar\trat\tTrue\n",
      "arc\tcar\tTrue\n",
      "elbow\tbelow\tTrue\n",
      "state\ttaste\tTrue\n",
      "night\tthing\tTrue\n",
      "glean\tangel\tTrue\n"
     ]
    }
   ],
   "source": [
    "anagrams_true = [\n",
    "    ('tar', 'rat'),\n",
    "    ('arc', 'car'),\n",
    "    ('elbow', 'below'),\n",
    "    ('state', 'taste'),\n",
    "    ('night', 'thing'),\n",
    "    ('glean', 'angel'),\n",
    "]\n",
    "\n",
    "for a, b in anagrams_true:\n",
    "    print(f'{a}\\t{b}\\t{compare(a, b)}')"
   ]
  },
  {
   "cell_type": "code",
   "execution_count": 3,
   "metadata": {},
   "outputs": [
    {
     "name": "stdout",
     "output_type": "stream",
     "text": [
      "cat\trat\tFalse\n",
      "truck\tcar\tFalse\n",
      "above\tbelow\tFalse\n",
      "smell\ttaste\tFalse\n",
      "stuff\tthing\tFalse\n",
      "devil\tangel\tFalse\n"
     ]
    }
   ],
   "source": [
    "anagrams_false = [\n",
    "    ('cat', 'rat'),\n",
    "    ('truck', 'car'),\n",
    "    ('above', 'below'),\n",
    "    ('smell', 'taste'),\n",
    "    ('stuff', 'thing'),\n",
    "    ('devil', 'angel'),\n",
    "]\n",
    "\n",
    "for a, b in anagrams_false:\n",
    "    print(f'{a}\\t{b}\\t{compare(a, b)}')"
   ]
  },
  {
   "cell_type": "markdown",
   "metadata": {},
   "source": [
    "We can use this exact same approach to generate single-word anagrams. Given a *corpus* of words, we can just iterate through the corpus and sort each word's letters alphabetically. Then we can then use this as the key to a dictionary, and use that key to store a list of all words whose sorted letters map to that key."
   ]
  },
  {
   "cell_type": "code",
   "execution_count": 4,
   "metadata": {},
   "outputs": [],
   "source": [
    "from collections import defaultdict\n",
    "\n",
    "lookup_table = defaultdict(list) # default value is an empty list\n",
    "\n",
    "with open('corpus.txt', 'r') as corpus:\n",
    "    for word in corpus:\n",
    "        word = word.rstrip('\\n')\n",
    "        key = \"\".join(sorted(word))  # convert to sorted string\n",
    "        lookup_table[key].append(word)"
   ]
  },
  {
   "cell_type": "markdown",
   "metadata": {},
   "source": [
    "There are $10,000$ words in `corpus.txt`. How many entries are there in the lookup table?"
   ]
  },
  {
   "cell_type": "code",
   "execution_count": 5,
   "metadata": {},
   "outputs": [
    {
     "data": {
      "text/plain": [
       "9211"
      ]
     },
     "execution_count": 5,
     "metadata": {},
     "output_type": "execute_result"
    }
   ],
   "source": [
    "len(lookup_table)"
   ]
  },
  {
   "cell_type": "markdown",
   "metadata": {},
   "source": [
    "Around $8\\%$ of the words in the corpus have another anagram. Let's look at words with at least four anagrams:"
   ]
  },
  {
   "cell_type": "code",
   "execution_count": 6,
   "metadata": {},
   "outputs": [
    {
     "name": "stdout",
     "output_type": "stream",
     "text": [
      "['care', 'race', 'acer', 'acre']\n",
      "['edit', 'diet', 'tied', 'tide']\n",
      "['isp', 'psi', 'sip', 'ips']\n",
      "['per', 'pre', 'rep', 'erp']\n",
      "['post', 'stop', 'spot', 'tops']\n",
      "['spa', 'asp', 'sap', 'pas']\n",
      "['step', 'pets', 'sept', 'pest']\n",
      "['team', 'meat', 'meta', 'mate']\n"
     ]
    }
   ],
   "source": [
    "for anagrams in sorted(lookup_table.values()):\n",
    "    if len(anagrams) >= 4:\n",
    "        print(anagrams)"
   ]
  },
  {
   "cell_type": "markdown",
   "metadata": {},
   "source": [
    "We can also use the lookup table to find anagrams for a given word!"
   ]
  },
  {
   "cell_type": "code",
   "execution_count": 7,
   "metadata": {},
   "outputs": [],
   "source": [
    "def find_anagrams(a):\n",
    "    key = \"\".join(sorted(a))\n",
    "    return lookup_table[key]"
   ]
  },
  {
   "cell_type": "code",
   "execution_count": 8,
   "metadata": {},
   "outputs": [
    {
     "data": {
      "text/plain": [
       "['break', 'baker', 'brake']"
      ]
     },
     "execution_count": 8,
     "metadata": {},
     "output_type": "execute_result"
    }
   ],
   "source": [
    "find_anagrams('baker')"
   ]
  },
  {
   "cell_type": "markdown",
   "metadata": {},
   "source": [
    "A substantially harder problem is to generate multi-word anagrams. Given a word (or words), find a word (or words) with the same set of letters. For example, \"actor\" can be split into \"act, or\", \"cat, or\" and \"car, to\". "
   ]
  },
  {
   "cell_type": "markdown",
   "metadata": {},
   "source": [
    "A naive approach would be to consider all possible ways to combine the letters in a word into strings.\n",
    "\n",
    "One way of doing this would be to first consider every possible permutation of the letters of the word. Then, for each permutation, consider each possible way of partitioning the permutation into smallers strings. Finally, confirm that each sub-word in the partition is in fact a real word.\n",
    "\n",
    "This is a *terrible* idea, and it's the first one I had when I first thought about this problem. The number of ways to permute a string of length $n$ is $n!$, and the number of partitions is given by the *[Bell number](https://en.wikipedia.org/wiki/Bell_number)* $B_n$, which has growth rate $\\mathcal{O}((n/\\log n)^n)$."
   ]
  },
  {
   "cell_type": "markdown",
   "metadata": {},
   "source": [
    "Let's do it anyways."
   ]
  },
  {
   "cell_type": "code",
   "execution_count": 22,
   "metadata": {},
   "outputs": [],
   "source": [
    "def partition(collection):\n",
    "    if len(collection) == 1:\n",
    "        yield [collection]\n",
    "        return\n",
    "\n",
    "    first = collection[0]\n",
    "    for smaller in partition(collection[1:]):\n",
    "        for n, subset in enumerate(smaller):\n",
    "            yield smaller[:n] + [[first] + subset]  + smaller[n+1:]\n",
    "        yield [[first]] + smaller"
   ]
  },
  {
   "cell_type": "code",
   "execution_count": 26,
   "metadata": {},
   "outputs": [],
   "source": [
    "def string_partition(string):\n",
    "    for part in partition(list(string)):\n",
    "        yield [\"\".join(substring) for substring in part]"
   ]
  },
  {
   "cell_type": "code",
   "execution_count": 28,
   "metadata": {},
   "outputs": [
    {
     "name": "stdout",
     "output_type": "stream",
     "text": [
      "['duck']\n",
      "['d', 'uck']\n",
      "['du', 'ck']\n",
      "['u', 'dck']\n",
      "['d', 'u', 'ck']\n",
      "['duc', 'k']\n",
      "['uc', 'dk']\n",
      "['d', 'uc', 'k']\n",
      "['dc', 'uk']\n",
      "['c', 'duk']\n",
      "['d', 'c', 'uk']\n",
      "['du', 'c', 'k']\n",
      "['u', 'dc', 'k']\n",
      "['u', 'c', 'dk']\n",
      "['d', 'u', 'c', 'k']\n"
     ]
    }
   ],
   "source": [
    "for p in string_partition('duck'):\n",
    "    print(p)"
   ]
  },
  {
   "cell_type": "code",
   "execution_count": null,
   "metadata": {},
   "outputs": [],
   "source": []
  }
 ],
 "metadata": {
  "kernelspec": {
   "display_name": "Python [conda env:projects] *",
   "language": "python",
   "name": "conda-env-projects-py"
  },
  "language_info": {
   "codemirror_mode": {
    "name": "ipython",
    "version": 3
   },
   "file_extension": ".py",
   "mimetype": "text/x-python",
   "name": "python",
   "nbconvert_exporter": "python",
   "pygments_lexer": "ipython3",
   "version": "3.6.10"
  }
 },
 "nbformat": 4,
 "nbformat_minor": 4
}
