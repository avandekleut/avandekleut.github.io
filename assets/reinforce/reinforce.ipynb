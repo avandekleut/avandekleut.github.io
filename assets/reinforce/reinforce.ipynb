{
 "cells": [
  {
   "cell_type": "raw",
   "metadata": {},
   "source": [
    "---\n",
    "permalink: /reinforce/\n",
    "layout: single\n",
    "author_profile: true\n",
    "title: Policy Gradient Theorem and REINFORCE\n",
    "folder: \"reinforce\"\n",
    "ipynb: \"reinforce.ipynb\"\n",
    "excerpt: ##########################\n",
    "header:\n",
    "  teaser: /assets/reinforce/######################\n",
    "---"
   ]
  },
  {
   "cell_type": "markdown",
   "metadata": {},
   "source": [
    "In the [previous post](dqn) we took a deep dive into deep $Q$-learning, the technique that [scored human-level performance](https://www.nature.com/articles/nature14236) from raw pixels on Atari games like Breakout. This technique was developed to allow $Q$-learning on continuous observation spaces $\\mathcal{S}$. The fundamental limitation of deep $Q$-learning, however, is that it only work on MDPs with discrete action spaces $\\mathcal{A}$."
   ]
  },
  {
   "cell_type": "markdown",
   "metadata": {},
   "source": [
    "$Q$-learning works by learning to estimate the values of $Q^\\pi(s_t, a_t)$ for every state-action pair $(s_t, a_t)$. Then, given a state $s_t$, it uses a greedy policy that just chooses the action with the highest $Q$ value:\n",
    "\n",
    "$$\n",
    "\\pi(a_t \\mid s_t) = \n",
    "\\begin{cases}\n",
    "1 & a_t = \\arg \\max_{a_t} Q^\\pi(s_t, a_t) \\\\\n",
    "0 & \\text{otherwise}\n",
    "\\end{cases}\n",
    "$$"
   ]
  },
  {
   "cell_type": "markdown",
   "metadata": {},
   "source": [
    "This policy is deterministic (always chooses the same action). This can be a problem when we want our agent to explore more. We solved this problem somewhat using $\\epsilon$-greedy policies and epsilon decay, but what if we wanted our policy to be stochastic? In the most general description, policies are just probability distributions over actions, and we sample actions from those probability distributions. More narrow distributions are more likely to choose the same actions (with policies like those used in $Q$-learning as an extreme example), and more broad distributions are more likely to choose different actions (with a random agent as an extreme example)."
   ]
  },
  {
   "cell_type": "markdown",
   "metadata": {},
   "source": [
    "In order to use continuous action spaces and have stochastic policies, we have to model the policy $\\pi$ directly. We can parametrize our policy using some parameters $\\theta$ to produce a distribution over actions:\n",
    "\n",
    "$$\n",
    "\\pi_\\theta(a_t \\mid s_t) = p(a_t \\mid s_t, \\theta)\n",
    "$$\n",
    "\n"
   ]
  },
  {
   "cell_type": "markdown",
   "metadata": {},
   "source": [
    "Like in $Q$-learning (and all of reinforcement learning, really) our goal is to find a policy $\\pi$ that maximizes the expected cumulative reward. Let's call the quantity that we want to maximize the **objective** $J$. The objective value for a certain policy with parameters $\\theta$ is denoted $J(\\theta)$. \n",
    "\n",
    "For an episodic environment (with finite $T$), we usually just consider this objective to be the value of the starting state:\n",
    "\n",
    "$$\n",
    "J(\\theta) = V^{\\pi_\\theta}(s_0) = \\mathbb{E}_\\tau \\left[G_0 \\mid s_0 \\right]\n",
    "$$\n",
    "\n",
    "Imagine an MDP with a single timestep $T=1$. Then the objective function looks like\n",
    "\n",
    "$$\n",
    "\\begin{aligned}\n",
    "J(\\theta) &= \\mathbb{E}_\\tau \\left[G_0 \\mid s_0 \\right] \\\\\n",
    "&= \\sum_\\tau p(\\tau) \\mathbb{E} \\left[G_0 \\mid s_0, \\tau \\right] \\\\\n",
    "&= \\sum_{s_0 \\in \\mathcal{S}} p(s_0) \\mathbb{E}_{a_0} \\left[r_0 \\mid s_0 \\right] \\\\\n",
    "&= \\sum_{s_0 \\in \\mathcal{S}} p_0(s_0) \\sum_{a_0 \\in \\mathcal{A}} \\pi_\\theta( a_0 \\mid s_0) \\mathbb{E} \\left[r_0 \\mid s_0, a_0 \\right] \\\\\n",
    "&= \\sum_{s_0 \\in \\mathcal{S}} p_0(s_0) \\sum_{a_0 \\in \\mathcal{A}} \\pi_\\theta( a_0 \\mid s_0) \\mathcal{R}(s_0, a_0)\n",
    "\\end{aligned}\n",
    "$$"
   ]
  },
  {
   "cell_type": "markdown",
   "metadata": {},
   "source": [
    "The first expansion takes the expectation over trajectories and expands it using the chain rule of probability. \n",
    "\n",
    "The second line replaces $\\tau$ with $s_0$ and $G_0$ with $r_0$ since the MDP only has a single timestep. \n",
    "\n",
    "The third line takes the expectation over actions and expands it using the chain rule of probability.\n",
    "\n",
    "The last line replaces the expectation over rewards given a state-action pair with $\\mathcal{R}$, which is its definition in a Markov reward process (see my [previous post](q-learning)."
   ]
  },
  {
   "cell_type": "markdown",
   "metadata": {},
   "source": [
    "Given a policy $\\pi_\\theta$ parametrized by $\\theta$, how should we update $\\theta$ to maximize the objective $J(\\theta)$? We can use **gradient ascent**:\n",
    "\n",
    "$$\n",
    "\\theta \\gets \\theta + \\alpha \\nabla_\\theta J(\\theta)\n",
    "$$"
   ]
  },
  {
   "cell_type": "markdown",
   "metadata": {},
   "source": [
    "Taking the gradient with respect to $\\theta$ of the objective for the 1-step MDP above gives \n",
    "\n",
    "$$\n",
    "\\nabla_\\theta J(\\theta) = \\sum_{s_0 \\in \\mathcal{S}} p_0(s_0) \\sum_{a_0 \\in \\mathcal{A}} \\nabla_\\theta \\pi_\\theta (a_0 \\mid s_0) \\mathcal{R}(s_0, a_0)\n",
    "$$"
   ]
  },
  {
   "cell_type": "markdown",
   "metadata": {},
   "source": [
    "This equation is almost identical to the objective $J(\\theta)$ itself, except that we have the gradient of the policy instead of the policy itself. Let's reintroduce the policy term by multiplying and dividing by it (assuming $\\pi_\\theta(a_0 \\mid s_0)$ is nonzero);\n",
    "\n",
    "$$\n",
    "\\nabla_\\theta J(\\theta) = \\sum_{s_0 \\in \\mathcal{S}} p_0(s_0) \\sum_{a_0 \\in \\mathcal{A}} \\pi_\\theta(a_0 \\mid s_0) \\frac{\\nabla_\\theta \\pi_\\theta (a_0 \\mid s_0)}{\\pi_\\theta(a_0 \\mid s_0) } \\mathcal{R}(s_0, a_0)\n",
    "$$"
   ]
  },
  {
   "cell_type": "markdown",
   "metadata": {},
   "source": [
    "We can undo the expansion steps from earlier to see that\n",
    "\n",
    "$$\n",
    "\\nabla_\\theta J(\\theta) = \\mathbb{E}_{s_0} \\left[ \\frac{\\nabla_\\theta \\pi_\\theta (a_0 \\mid s_0)}{\\pi_\\theta(a_0 \\mid s_0) } r_0 \\right]\n",
    "$$"
   ]
  },
  {
   "cell_type": "markdown",
   "metadata": {},
   "source": [
    "This expression for the gradient is actually extremely intuitive. The top is a vector in parameter space that would move $\\theta$ in the direction that increases the probability of choosing action $a_0$ in state $s_0$. \n",
    "\n",
    "However, this could lead to a feedback loop where we just continually take the most likely action, so to counteract this, we divide by the probability of taking this action. \n",
    "\n",
    "Finally, we scale by the reward; the higher the reward, we more we want to take this action. We can actually use the following identity to make the expresson even simpler:\n",
    "\n",
    "$$\n",
    "\\frac{\\nabla_\\theta \\pi_\\theta (a_0 \\mid s_0)}{\\pi_\\theta(a_0 \\mid s_0) }  = \\nabla_\\theta \\log \\pi_\\theta (a_0 \\mid s_0)\n",
    "$$"
   ]
  },
  {
   "cell_type": "markdown",
   "metadata": {},
   "source": [
    "giving us the following expression for the single-step MDP:\n",
    "\n",
    "$$\n",
    "\\nabla_\\theta J(\\theta) = \\mathbb{E}_{s_0} \\left[ \\nabla_\\theta \\log \\pi_\\theta(a_0 \\mid s_0) r_0 \\right]\n",
    "$$"
   ]
  },
  {
   "cell_type": "markdown",
   "metadata": {},
   "source": [
    "With a bit of extra work, we can derive a similar formula for multi-step episodic MDPs known as the **policy gradient theorem**:\n",
    "\n",
    "$$\n",
    "\\nabla_\\theta J(\\theta) = \\mathbb{E}_\\tau \\left[ \\sum_{t=0}^T \\nabla_\\theta \\log \\pi (a_t \\mid s_t) Q^{\\pi_\\theta} (s_t, a_t) \\right]\n",
    "$$"
   ]
  },
  {
   "cell_type": "markdown",
   "metadata": {},
   "source": [
    "Where $a_t$ and $s_t$ are seen throughout the trajectory $\\tau$."
   ]
  },
  {
   "cell_type": "markdown",
   "metadata": {},
   "source": [
    "REINFORCE directly applies the policy gradient theorem by sampling this expectation and using it as an estimate for the gradient. We run a **rollout** of the policy $\\pi_\\theta$ in our environment for $T$ time steps, storing the states, actions, rewards, and done flags at each time step $t$. Then, we compute an empirical estimate for the gradient:"
   ]
  },
  {
   "cell_type": "markdown",
   "metadata": {},
   "source": [
    "$$\n",
    "\\hat{g} = \\sum_{t=0}^T \\nabla_\\theta \\log \\pi_\\theta(a_t \\mid s_t) G_t\n",
    "$$"
   ]
  },
  {
   "cell_type": "markdown",
   "metadata": {},
   "source": [
    "where we use $\\hat{g}$ as a short hand for \"estimate of the gradient\". "
   ]
  },
  {
   "cell_type": "markdown",
   "metadata": {},
   "source": [
    "This can be easily implemented using an autograd library like PyTorch by defining a loss function:\n",
    "\n",
    "$$\n",
    "L^{\\text{PG}} = \\sum_{t=0}^T \\log \\pi_\\theta(a_t \\mid s_t) G_t\n",
    "$$\n",
    "\n",
    "then the gradient is just\n",
    "\n",
    "$$\n",
    "\\begin{align}\n",
    "\\nabla_\\theta L^{\\text{PG}} &= \\nabla_\\theta \\sum_{t=0}^T \\log \\pi_\\theta(a_t \\mid s_t) G_t \\\\\n",
    "&= \\sum_{t=0}^T \\nabla_\\theta  \\log \\pi_\\theta(a_t \\mid s_t) G_t\n",
    "\\end{align}\n",
    "$$\n",
    "\n",
    "which is the gradient we want. We can use this gradient for gradient *ascent* by flipping the sign, and doing gradient *descent*. This is how we will be implementing REINFORCE."
   ]
  },
  {
   "cell_type": "markdown",
   "metadata": {},
   "source": [
    "This is a good time to bring up the difference between **on-policy** learning and **off-policy** learning.\n",
    "\n",
    "**On-policy** learning requires that data used for training a policy $\\pi$ is actually collected *by that policy*. Policy gradient-based algorithms, such as REINFORCE, are usually on-policy. This is evident in the form of the policy gradient theorem, where the expectation is taken over trajectories $\\tau$, whose distribution depends directly on the policy $\\pi$.\n",
    "\n",
    "**Off-policy** learning does not require that data used for training a policy $\\pi$ be collected by that policy. For example, $Q$-learning (and deep $Q$-learning) are off-policy algorithms. $Q$-learning only requires data of the form $s_t, a_t, r_t, s_{t+1}$ to learn the $Q$-function. This data could easily be collected by a random policy.\n",
    "\n",
    "When using an on-policy algorithm, if we collect training data and then use that data to update our policy's parameters $\\theta$, we cannot re-use that data for further training. This is the downside of on-policy algorithms.\n",
    "\n"
   ]
  },
  {
   "cell_type": "markdown",
   "metadata": {},
   "source": [
    "To get a less variable estimate of the gradient $\\hat{g}$, we can run multiple rollouts in parallel and compute the average gradient over each rollout. This stabilizes training and allows us to increase our learning rate since we can be more confident in out gradient estimate."
   ]
  },
  {
   "cell_type": "markdown",
   "metadata": {},
   "source": [
    "Below we provide the same implementation for a vectorized environment that we used in the [previous post](dqn) (with a minor change since we will be allowing non-discrete actions this time):"
   ]
  },
  {
   "cell_type": "code",
   "execution_count": 1,
   "metadata": {},
   "outputs": [],
   "source": [
    "import copy\n",
    "import numpy as np\n",
    "import gym\n",
    "\n",
    "class VectorizedEnvWrapper(gym.Wrapper):\n",
    "    def __init__(self, env, num_envs=1):\n",
    "        '''\n",
    "        env (gym.Env): to make copies of\n",
    "        num_envs (int): number of copies\n",
    "        '''\n",
    "        super().__init__(env)\n",
    "        self.num_envs = num_envs\n",
    "        self.envs = [copy.deepcopy(env) for n in range(num_envs)]\n",
    "    \n",
    "    def reset(self):\n",
    "        '''\n",
    "        Return and reset each environment\n",
    "        '''\n",
    "        return np.asarray([env.reset() for env in self.envs])\n",
    "    \n",
    "    def step(self, actions):\n",
    "        '''\n",
    "        Take a step in the environment and return the result.\n",
    "        actions (torch.tensor)\n",
    "        '''\n",
    "        next_states, rewards, dones = [], [], []\n",
    "        for env, action in zip(self.envs, actions):\n",
    "            next_state, reward, done, _ = env.step(action.item())\n",
    "            if done:\n",
    "                next_states.append(env.reset())\n",
    "            else:\n",
    "                next_states.append(next_state)\n",
    "            rewards.append(reward)\n",
    "            dones.append(done)\n",
    "        return np.asarray(next_states), np.asarray(rewards), \\\n",
    "            np.asarray(dones)"
   ]
  },
  {
   "cell_type": "markdown",
   "metadata": {},
   "source": [
    "Before we can fully implement REINFORCE, we need to look at the two most common types of stochastic policies: **categorical policies** and **diagonal Gaussian policies**.\n",
    "\n",
    "Categorical policies define a probability distribution over a discrete action space. The way that this is normally implemented is using a neural network with $\\lvert \\mathcal{A} \\rvert$ output nodes, one for each action. A **softmax** activation is applied at the end to ensure the activations of the output layer are a probability distribution.\n",
    "\n",
    "$$\n",
    "a_i \\to \\frac{e^{a_i}}{\\sum_j e^{a_j}}\n",
    "$$\n",
    "\n",
    "the exponentiation operation makes every output positive, and the division by the sum of the exponentiated outputs just normalized activities so they sum to 1."
   ]
  },
  {
   "cell_type": "markdown",
   "metadata": {},
   "source": [
    "![categorical.png](categorical.png)"
   ]
  },
  {
   "cell_type": "markdown",
   "metadata": {},
   "source": [
    "Diagonal Gaussian policies define a probability distribution over a continuous action space. In this case, actions are real-valued vectors, so we need to instead define a probability distribution over real-valued vectors. The most common way to do this is to use a diagonal Gaussian distribution, which is a multivariate Gaussian distribution with diagonal covariance matrix."
   ]
  },
  {
   "cell_type": "markdown",
   "metadata": {},
   "source": [
    "To implement this, we usually use a neural network to produce a mean vector $\\mu(s_t)$. We also need standard deviations, which can be implemented different ways: as standalone parameters $\\sigma$, as a separate neural network $\\sigma(s_t)$ or as a separate final layer on the same network used to produce $\\mu(s_t)$.\n",
    "\n",
    "We then sample actions by doing\n",
    "\n",
    "$$\n",
    "\\begin{align}\n",
    "z &\\sim \\mathcal{N}(0, I) \\\\\n",
    "a_t &= \\mu(s_t) + z \\odot \\sigma\n",
    "\\end{align}\n",
    "$$"
   ]
  },
  {
   "cell_type": "markdown",
   "metadata": {},
   "source": [
    "![diagonal-gaussian.png](diagonal-gaussian.png)"
   ]
  },
  {
   "cell_type": "markdown",
   "metadata": {},
   "source": [
    "We usually learn $\\log \\sigma$ rather than $\\sigma$, since $\\log \\sigma \\in (-\\infty, \\infty)$ whereas $\\sigma \\in [0, \\infty)$ (and ensuring bounds during optimization is difficult)."
   ]
  },
  {
   "cell_type": "markdown",
   "metadata": {},
   "source": [
    "Below we implement both a diagonal Gaussian policy and categorical policy. We first define a base class `Policy`, then subclass this to override the definitions for `pi` and `__init__`."
   ]
  },
  {
   "cell_type": "markdown",
   "metadata": {},
   "source": [
    "We will assume that each `Policy` has a method called `pi` that returns a `torch.Distribution` object. PyTorch's `Distribution` library includes common distributions like Gaussian and categorical distributions, and comes with implementations for computing log-probabilities, so that we don't have to reinvent the wheel. We can then use this `pi` method to either produce an action or to compute the loss we want to maximize."
   ]
  },
  {
   "cell_type": "code",
   "execution_count": 2,
   "metadata": {},
   "outputs": [],
   "source": [
    "import torch\n",
    "\n",
    "class Policy:\n",
    "    def pi(self, s_t):\n",
    "        '''\n",
    "        returns the probability distribution over actions \n",
    "        (torch.distributions.Distribution)\n",
    "        \n",
    "        s_t (np.ndarray): the current state\n",
    "        '''\n",
    "        raise NotImplementedError\n",
    "    \n",
    "    def act(self, s_t):\n",
    "        '''\n",
    "        s_t (np.ndarray): the current state\n",
    "        Because of environment vectorization, this will produce\n",
    "        E actions where E is the number of parallel environments.\n",
    "        '''\n",
    "        a_t = self.pi(s_t).sample()\n",
    "        return a_t\n",
    "    \n",
    "    def learn(self, states, actions, returns):\n",
    "        '''\n",
    "        states (np.ndarray): the list of states encountered during\n",
    "                             rollout\n",
    "        actions (np.ndarray): the list of actions encountered during\n",
    "                              rollout\n",
    "        returns (np.ndarray): the list of returns encountered during\n",
    "                              rollout\n",
    "        \n",
    "        Because of environment vectorization, each of these has first\n",
    "        two dimensions TxE where T is the number of time steps in the\n",
    "        rollout and E is the number of parallel environments.\n",
    "        '''\n",
    "        actions = torch.tensor(actions)\n",
    "        returns = torch.tensor(returns)\n",
    "\n",
    "        log_prob = self.pi(states).log_prob(actions)\n",
    "        loss = torch.mean(-log_prob*returns)\n",
    "        self.opt.zero_grad()\n",
    "        loss.backward()\n",
    "        self.opt.step()"
   ]
  },
  {
   "cell_type": "markdown",
   "metadata": {},
   "source": [
    "To implement the diagonal Gaussian policy, we use a neural network to produce $\\mu(s_t)$ and use pure parameters for $\\log \\sigma$ (i.e., $\\log \\sigma$ is not a function of $s_t$). In this case we use a two-layer neural network with a linear output layer so that the range of the outputs is unconstrained. Usually this size of network has enough parameters to solve basic continuous control problems but few enough to train in a few minutes."
   ]
  },
  {
   "cell_type": "code",
   "execution_count": 3,
   "metadata": {},
   "outputs": [],
   "source": [
    "class DiagonalGaussianPolicy(Policy):\n",
    "    def __init__(self, env, lr=1e-2):\n",
    "        '''\n",
    "        env (gym.Env): the environment\n",
    "        lr (float): learning rate\n",
    "        '''\n",
    "        self.N = env.observation_space.shape[0]\n",
    "        self.M = env.action_space.shape[0]\n",
    "        \n",
    "        self.mu = torch.nn.Sequential(\n",
    "            torch.nn.Linear(self.N, 64),\n",
    "            torch.nn.ReLU(),\n",
    "            torch.nn.Linear(64, 64),\n",
    "            torch.nn.ReLU(),\n",
    "            torch.nn.Linear(64, self.M)\n",
    "        ).double()\n",
    "\n",
    "        self.log_sigma = torch.ones(self.M, dtype=torch.double, requires_grad=True)\n",
    "\n",
    "        self.opt = torch.optim.Adam(list(self.mu.parameters()) + [self.log_sigma], lr=lr)\n",
    "        \n",
    "    def pi(self, s_t):\n",
    "        '''\n",
    "        returns the probability distribution over actions\n",
    "        s_t (np.ndarray): the current state\n",
    "        '''\n",
    "        s_t = torch.as_tensor(s_t).double()\n",
    "        mu = self.mu(s_t)\n",
    "        log_sigma = self.log_sigma\n",
    "        sigma = torch.exp(log_sigma)\n",
    "        pi = torch.distributions.MultivariateNormal(mu, torch.diag(sigma))\n",
    "        return pi"
   ]
  },
  {
   "cell_type": "markdown",
   "metadata": {},
   "source": [
    "To implement the categorical policy, we use a single layer neural network to produce $\\log \\pi(a_t \\mid s_t)$. We then pass the output to `torch.distributions.Categorical` using `logits`, which will apply the softmax operator to the outputs for us. Using a larger neural network may be required for more complex problems, but we will be using this policy on the `CartPole-v0` problem from earlier and a linear policy is sufficient to solve it."
   ]
  },
  {
   "cell_type": "code",
   "execution_count": 4,
   "metadata": {},
   "outputs": [],
   "source": [
    "class CategoricalPolicy(Policy):\n",
    "    def __init__(self, env, lr=1e-2):\n",
    "        '''\n",
    "        env (gym.Env): the environment\n",
    "        lr (float): learning rate\n",
    "        '''\n",
    "        self.N = env.observation_space.shape[0]\n",
    "        self.M = env.action_space.n\n",
    "        self.p = torch.nn.Sequential(\n",
    "            torch.nn.Linear(self.N, self.M),\n",
    "        ).double()\n",
    "        \n",
    "        self.opt = torch.optim.Adam(self.p.parameters(), lr=lr)\n",
    "        \n",
    "    def pi(self, s_t):\n",
    "        '''\n",
    "        returns the probability distribution over actions\n",
    "        s_t (np.ndarray): the current state\n",
    "        '''\n",
    "        s_t = torch.as_tensor(s_t).double()\n",
    "        p = self.p(s_t)\n",
    "        pi = torch.distributions.Categorical(logits=p)\n",
    "        return pi"
   ]
  },
  {
   "cell_type": "markdown",
   "metadata": {},
   "source": [
    "We also need to write some code for calculating the returns $G_t$ at each time step $t$ for each parallel environment. We will use our formula for the return:\n",
    "\n",
    "$$\n",
    "G_t = r_t + \\gamma (1-d_t) G_{t+1}\n",
    "$$\n",
    "\n",
    "and the fact that\n",
    "$$\n",
    "G_T = r_T\n",
    "$$\n",
    "\n",
    "to write a loop that iterates backwards through a list of `rewards` and `done` flags and produces a list of `returns`."
   ]
  },
  {
   "cell_type": "code",
   "execution_count": 5,
   "metadata": {},
   "outputs": [],
   "source": [
    "def calculate_returns(rewards, dones, gamma):\n",
    "    result = np.empty_like(rewards)\n",
    "    result[-1] = rewards[-1]\n",
    "    for t in range(len(rewards)-2, -1, -1):\n",
    "        result[t] = rewards[t] + gamma*(1-dones[t])*result[t+1]\n",
    "    return result"
   ]
  },
  {
   "cell_type": "markdown",
   "metadata": {},
   "source": [
    "Finally, we are ready to implement REINFORCE. In terms of our training loop, we will divide training into two parts:\n",
    "\n",
    "1. Epochs. These form the outer loop of our training algorithm. We will have one policy update per epoch.\n",
    "2. Rollouts. These form the inner loop of our training algorithm. We will run the policy in multiple parallel environments for a fixed number of time steps $T$ and collect the states, actions, rewards, and done flags encountered in each environemnt."
   ]
  },
  {
   "cell_type": "code",
   "execution_count": 6,
   "metadata": {},
   "outputs": [],
   "source": [
    "import seaborn as sns; sns.set()\n",
    "\n",
    "def REINFORCE(env, agent, gamma=0.99, epochs=100, T=1000):    \n",
    "    # for learning    \n",
    "    states = np.empty((T, env.num_envs, agent.N))\n",
    "    if isinstance(env.action_space, gym.spaces.Discrete):\n",
    "        # discrete action spaces only need to store a \n",
    "        # scalar for each action.\n",
    "        actions = np.empty((T, env.num_envs))\n",
    "    else:\n",
    "        # continuous action spaces need to store a \n",
    "        # vector for each eaction.\n",
    "        actions = np.empty((T, env.num_envs, agent.M))\n",
    "    rewards = np.empty((T, env.num_envs))\n",
    "    dones = np.empty((T, env.num_envs))\n",
    "    \n",
    "    # for plotting\n",
    "    totals = []\n",
    "    \n",
    "    for epoch in range(epochs):\n",
    "        s_t = env.reset()\n",
    "\n",
    "        for t in range(T):\n",
    "            a_t = agent.act(s_t)\n",
    "            s_t_next, r_t, d_t = env.step(a_t)\n",
    "\n",
    "            # for learning\n",
    "            states[t] = s_t\n",
    "            actions[t] = a_t\n",
    "            rewards[t] = r_t\n",
    "            dones[t] = d_t\n",
    "\n",
    "            s_t = s_t_next\n",
    "        \n",
    "        returns = calculate_returns(rewards, dones, gamma)\n",
    "        agent.learn(states, actions, returns)\n",
    "        \n",
    "        # for plotting\n",
    "        # average reward = total reward/number of episodes\n",
    "        totals.append(rewards.sum()/dones.sum())\n",
    "        print(f'{epoch}/{epochs}:{totals[-1]}\\r', end='')\n",
    "        \n",
    "    sns.lineplot(x=range(len(totals)), y=totals)\n",
    "            \n",
    "    return agent"
   ]
  },
  {
   "cell_type": "markdown",
   "metadata": {},
   "source": [
    "First we will run a `Categorical` policy on the `CartPole-v0` environment from the previous post. This environment is very simple and works well as a first test bed for algorithms using discrete action spaces."
   ]
  },
  {
   "cell_type": "markdown",
   "metadata": {},
   "source": [
    "Because the environment has a small time horizon ($T=200$) we will use $\\gamma=0.99$ which is the default. Also, we will use 32 environment, which is a good balance between wall clock time and improved data collection. Because we are using a basic linear policy, we can use a relatively high learning rate of 0.1."
   ]
  },
  {
   "cell_type": "code",
   "execution_count": 7,
   "metadata": {},
   "outputs": [
    {
     "name": "stdout",
     "output_type": "stream",
     "text": [
      "99/100:200.03086419753086\r"
     ]
    },
    {
     "data": {
      "image/png": "[encoded data removed]",
      "text/plain": [
       "<Figure size 432x288 with 1 Axes>"
      ]
     },
     "metadata": {},
     "output_type": "display_data"
    }
   ],
   "source": [
    "env = VectorizedEnvWrapper(gym.make(\"CartPole-v0\"), num_envs=32)\n",
    "agent = CategoricalPolicy(env, lr=1e-1)\n",
    "agent = REINFORCE(env, agent)"
   ]
  },
  {
   "cell_type": "markdown",
   "metadata": {},
   "source": [
    "For the next environment, we will be using `CartPoleSwingUp-v0`, which is *not* included in the basic `gym` installation. It can be installed with `pip install gym-cartpole-swingup`, and then imported to register the environment with `gym` (so we can create it via `gym.make`). \n",
    "\n",
    "This environment is very simple. It is like `CartPole-v0`, except the pole begins hanging down and must be swung into the upward position. The agent must learn to rapidly accelerate to add momentum to the pole, then switch directions to bring the pole above horizontal. This requires some level of exploration, so to improve our odds of randomly choosing good actions we massively scale up the number of parallel environments to 256. We also increase $\\gamma = 0.999$ to account for the longer time horizon of this problem (capped at the length of the rollout, $T=1000$). With this many environments, we only need about 20 epochs to get a decent policy. We decrease the learning rate since we are using a larger network (2 hidden layers) and since the problem is harder and we don't want to make updates that overshoot the optimal policy.\n",
    "\n",
    "In honesty, running this code with more environments, longer rollouts, more epochs and a smaller learning rate might be able to discover a really good policy that consistently performs well."
   ]
  },
  {
   "cell_type": "code",
   "execution_count": 8,
   "metadata": {},
   "outputs": [],
   "source": [
    "import gym_cartpole_swingup\n",
    "env = VectorizedEnvWrapper(gym.make(\"CartPoleSwingUp-v0\"), num_envs=256)"
   ]
  },
  {
   "cell_type": "code",
   "execution_count": 9,
   "metadata": {},
   "outputs": [
    {
     "name": "stdout",
     "output_type": "stream",
     "text": [
      "19/20:5.7961581938336594\r"
     ]
    },
    {
     "data": {
      "image/png": "[encoded data removed]",
      "text/plain": [
       "<Figure size 432x288 with 1 Axes>"
      ]
     },
     "metadata": {},
     "output_type": "display_data"
    }
   ],
   "source": [
    "agent = DiagonalGaussianPolicy(env, lr=1e-2)\n",
    "agent = REINFORCE(env, agent, gamma=0.999, epochs=20)"
   ]
  },
  {
   "cell_type": "markdown",
   "metadata": {},
   "source": [
    "I hope that this thorough introduction to policy gradients has been helpful. In the next posts, we will diver deeper into actor-critic methods and more advanced policy gradient methods."
   ]
  }
 ],
 "metadata": {
  "kernelspec": {
   "display_name": "Python 3",
   "language": "python",
   "name": "python3"
  },
  "language_info": {
   "codemirror_mode": {
    "name": "ipython",
    "version": 3
   },
   "file_extension": ".py",
   "mimetype": "text/x-python",
   "name": "python",
   "nbconvert_exporter": "python",
   "pygments_lexer": "ipython3",
   "version": "3.7.7"
  }
 },
 "nbformat": 4,
 "nbformat_minor": 4
}
