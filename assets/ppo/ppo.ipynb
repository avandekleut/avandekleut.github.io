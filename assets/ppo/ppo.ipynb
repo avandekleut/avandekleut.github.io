{
 "cells": [
  {
   "cell_type": "raw",
   "metadata": {},
   "source": [
    "---\n",
    "permalink: /ppo/\n",
    "layout: notebook\n",
    "author_profile: true\n",
    "title: Beyond Vanilla Policy Gradients: Natural Policy Gradients, Trust Region Policy Optimization (TRPO) and Proximal Policy Optimization (PPO)\n",
    "folder: \"ppo\"\n",
    "ipynb: \"ppo.ipynb\"\n",
    "excerpt: ##########################\n",
    "header:\n",
    "  teaser: /assets/ppo/######################\n",
    "---"
   ]
  },
  {
   "cell_type": "markdown",
   "metadata": {},
   "source": [
    "In the [previous post]({% post_url 2020-07-16-a2c %}) we covered the **advantage actor-critic** (A2C) model. We discussed how we can replace $Q^{\\pi_\\theta}$ in the policy gradient with $A^{\\pi_\\theta}$ and learned how to estimate the advantage function using generalized advantage estimation (GAE). "
   ]
  },
  {
   "cell_type": "markdown",
   "metadata": {},
   "source": [
    "## Limitations of \"Vanilla\" Policy Gradient Methods\n",
    "\n",
    "### Step Sizes\n",
    "\n",
    "The policy and value networks are operating under constantly changing data distributions (we say the data is **non-stationary**) because the policy itself changes. The policy collects data by interacting with the environment. If we take a really bad gradient step (for example, too large), we can end up with policy parameters that perform so poorly that we can never collect sufficient data to recover."
   ]
  },
  {
   "cell_type": "markdown",
   "metadata": {},
   "source": [
    "### Sample Complexity\n",
    "\n",
    "A2C performs relatively well on many tasks. However, it is sensitive to hyperparameters and can be slow to train. Part of this slowness comes from the fact that A2C is an on-policy algorithm. As a result, training usually consists of collecting data, optimizing the policy for a single gradient step on that data, then throwing the data away.\n",
    "\n",
    "1. In the policy gradient theorem, the expectation is taken over trajectories $\\tau$ where the distribution of trajectories is conditional on our policy $\\pi_\\theta$. However, once we make a gradient step to update our policy, that trajectory is no longer drawn from the distribution of trajectories conditional on our new policy, so we have to throw it away.\n",
    "2. If we just re-used the same data and made many gradient steps, we could easily move our policy parameters far away from the region of parameter space that are well-performing.\n",
    "3. The advantage estimate is a noisy estimate, so we shouldn't do multiple gradient updates (what if our advantage estimate is totally off?)\n",
    "\n",
    "This means that A2C has **poor sample complexity** - it often requires millions of frames of experience to learn good policies for advanced environments. "
   ]
  },
  {
   "cell_type": "markdown",
   "metadata": {},
   "source": [
    "## Defining Reinforcement Learning as an Optimization Problem\n",
    "\n",
    "Let's reframe how we think about RL. Let's try to reframe RL as a numerical optimization problem, where we define some loss function that we want to optimize.\n",
    "\n",
    "In the vanilla policy gradients algorithm, we have the gradient $g$:\n",
    "\n",
    "$$\n",
    "\\hat{g} = \\mathbb{E}_\\tau \\left[ \\sum_{t=0}^T \\nabla_\\theta \\log \\pi_\\theta (a_t \\mid s_t) \\hat{A}_t \\right]\n",
    "$$\n",
    "\n",
    "(unlike in previous posts, we will just use the estimate of the policy gradient $\\hat{g}$ which uses the estimate of the advantage $\\hat{A}$).\n",
    "\n",
    "for simplicity and by linearity of expectation, let's omit the sum over time steps:\n",
    "\n",
    "$$\n",
    "\\hat{g} = \\mathbb{E}_\\tau \\left[ \\nabla_\\theta \\log \\pi_\\theta (a_t \\mid s_t) \\hat{A}_t \\right]\n",
    "$$\n",
    "\n",
    "we can easily convert this to a loss function by integrating with respect to $\\theta$:\n",
    "\n",
    "$$\n",
    "L^{\\text{PG}}(\\theta) = \\mathbb{E}_\\tau \\left[  \\log \\pi_\\theta (a_t \\mid s_t) \\hat{A}_t \\right]\n",
    "$$\n"
   ]
  },
  {
   "cell_type": "markdown",
   "metadata": {},
   "source": [
    "As stated above, we would not want to optmize this loss to convergence. We just use this loss to get the policy gradient, and then take a single gradient step. This is in fact the loss that we define in the previous post, which we optimize using PyTorch's autograd features."
   ]
  },
  {
   "cell_type": "markdown",
   "metadata": {},
   "source": [
    "This is not the only way we could have gotten the gradient in the policy gradient. We could also do\n",
    "\n",
    "$$\n",
    "L^{\\text{IS}} (\\theta) = \\mathbb{E}_\\tau \\left[ \\frac{\\pi_\\theta (a_t \\mid s_t)}{\\pi_{\\theta_\\text{old}} (a_t \\mid s_t)} \\hat{A}_t\\right]\n",
    "$$"
   ]
  },
  {
   "cell_type": "markdown",
   "metadata": {},
   "source": [
    "where $\\theta_\\text{old}$ are the policy parameters at some previous point in time. By the chain rule:\n",
    "\n",
    "$$\n",
    "\\begin{align}\n",
    "\\nabla_\\theta \\log f(\\theta) \\rvert_{\\theta_\\text{old}} &= \\frac{\\nabla_\\theta f(\\theta)}{f(\\theta)} \\biggr |_{\\theta_\\text{old}} \\\\\n",
    "&= \\nabla_\\theta \\left( \\frac{ f(\\theta)}{f(\\theta)} \\right) \\biggr |_{\\theta_\\text{old}}\n",
    "\\end{align}\n",
    "$$"
   ]
  },
  {
   "cell_type": "markdown",
   "metadata": {},
   "source": [
    "so they have the same gradient."
   ]
  },
  {
   "cell_type": "markdown",
   "metadata": {},
   "source": [
    "### Trust Region Policy Optimization\n",
    "\n",
    "Again, we don't want to optimize this loss completely, for the same reasons as above. We want to make sure that our step sizes are small enough that our policy only changes a little bit. One way to accomplish this is to ensure that the **KL-divergence** between the old policy $\\pi_{\\theta_{\\text{old}}}$ and the new policy $\\pi_\\theta$ is bounded by some threshold $\\delta$."
   ]
  },
  {
   "cell_type": "markdown",
   "metadata": {},
   "source": [
    "Then we can define the following update:\n",
    "\n",
    "$$\n",
    "\\begin{align}\n",
    "\\text{Maximize wrt } \\theta & \\quad \\mathbb{E}_\\tau \\left[ \\frac{\\pi_\\theta (a_t \\mid s_t)}{\\pi_{\\theta_\\text{old}} (a_t \\mid s_t)} \\hat{A}_t\\right] \\\\\n",
    "\\text{Subject to} & \\quad \\mathbb{E}_\\tau \\left[ \\mathbb{KL}\\left( \\pi_{\\theta_{\\text{old}}} \\| \\pi_\\theta \\right) \\right] \\leq \\delta\n",
    "\\end{align}\n",
    "$$"
   ]
  },
  {
   "cell_type": "markdown",
   "metadata": {},
   "source": [
    "Consider a loss function $\\eta(\\theta)$ that measures the overall performance of the policy parameters $\\theta$. Then $L^{\\text{IS}}(\\theta)$ is a local approximation to $\\eta(\\theta)$ around $\\theta$. We define some region within which $L^{\\text{IS}}(\\theta)$  is \"good enough\" such that we are willing to optimize it completely. In this case, the region is defined by the KL constraint."
   ]
  },
  {
   "cell_type": "markdown",
   "metadata": {},
   "source": [
    "![trust-region.png](trust-region.png)"
   ]
  },
  {
   "cell_type": "markdown",
   "metadata": {},
   "source": [
    "The thick black line corresponds to $\\eta(\\theta)$. This is the true performance of the policy parameters $\\theta$. We don't have access to this value and must estimate it instead by interacting with the environment. As a result, we only have access to a local estimate of its gradient, the policy gradient. Vanilla policy gradient methods make single estimates of the gradient and update the parameters $\\theta$ according to that gradient. Our loss function $L^{\\text{IS}}$ coloured in red is just a local approximation to this global loss function that is accurate within the trust region. The trust region is coloured in blue. We can thus try to optimize the global loss function by iteratively maximizing the local loss function within the trust region."
   ]
  },
  {
   "cell_type": "markdown",
   "metadata": {},
   "source": [
    "We could use the Euclidian distance between the two parameter vectors $\\| \\theta - \\theta_{\\text{old}} \\| < \\delta$ as a constraint. However, the magnitude of the parameter vectors can easily change with the environment and model. Furthermore, a change of size $\\delta$ in parameter space can correspond to wildly different changes to the policy and performance in different regions of parameter space, whereas the KL divergence is unitless and scale-free. A consequence of this is that using KL divergence is more robust and we can define a hyperparameter $\\delta$ that makes sense over a wide range of problems."
   ]
  },
  {
   "cell_type": "markdown",
   "metadata": {},
   "source": [
    "We can use the Langragian dual form of the constrained optimization problem instead:\n",
    "\n",
    "$$\n",
    "L^{\\text{IS}}(\\theta) = \\mathbb{E}_\\tau \\left[ \\frac{\\pi_\\theta (a_t \\mid s_t)}{\\pi_{\\theta_\\text{old}} (a_t \\mid s_t)} \\hat{A}_t \\right] - \\beta \\mathbb{E}_\\tau \\left[ \\mathbb{KL}\\left( \\pi_{\\theta_{\\text{old}}} \\| \\pi_\\theta \\right) \\right]\n",
    "$$\n",
    "\n",
    "where $\\beta$ is the corresponding penalty coefficient for the constraint boundary $\\delta$."
   ]
  },
  {
   "cell_type": "markdown",
   "metadata": {},
   "source": [
    "It turns out that if we replace the expected KL divergence with the maximum, we get a lower bound on the performance $\\eta$:\n",
    "\n",
    "$$\n",
    "\\eta(\\theta) \\geq L^{\\text{IS}}(\\theta) = \\mathbb{E}_\\tau \\left[ \\frac{\\pi_\\theta (a_t \\mid s_t)}{\\pi_{\\theta_\\text{old}} (a_t \\mid s_t)} \\hat{A}_t \\right] - \\beta \\max_{s_t} \\mathbb{KL}\\left( \\pi_{\\theta_{\\text{old}}} \\| \\pi_\\theta \\right)\n",
    "$$"
   ]
  },
  {
   "cell_type": "markdown",
   "metadata": {},
   "source": [
    "We can visualize this similarly to above:"
   ]
  },
  {
   "cell_type": "markdown",
   "metadata": {},
   "source": [
    "![max-kl.png](max-kl.png)"
   ]
  },
  {
   "cell_type": "markdown",
   "metadata": {},
   "source": [
    "The nice thing about this being a lower bound is that we can fully optimize the lower bound without worrying about over-optimizing. Imagine completely optimizing $L^{\\text{IS}}$ in the unconstrained setting - we would end up with values of $\\theta$ that are far from optimal. Also, any improvement we make to the lower bound is guaranteed to make at least as much improvement on $\\eta$."
   ]
  },
  {
   "cell_type": "markdown",
   "metadata": {},
   "source": [
    "This method of maximizing the local approximation to $\\eta$ using the KL constraint is known as **trust region policy optimization** (TRPO). In practice, the actual optimization procedure is accomplished using the **conjugate gradient** method by using a linear approximation to the local approximation and a quadratic approximation to the KL constraint. Also, we use the average KL divergence $\\overline{\\mathbb{KL}}$ rather than the max."
   ]
  },
  {
   "cell_type": "markdown",
   "metadata": {},
   "source": [
    "$$\n",
    "\\text{maximizie wrt } \\theta \\quad g (\\theta - \\theta_\\text{old}) - \\frac{\\beta}{2} (\\theta - \\theta_\\text{old})^T F (\\theta - \\theta_\\text{old})\n",
    "$$\n",
    "\n",
    "where\n",
    "\n",
    "$$\n",
    "g = \\nabla_\\theta L^\\text{IS}(\\theta) \\big|_{\\theta_\\text{old}}\n",
    "$$\n",
    "\n",
    "and \n",
    "\n",
    "$$\n",
    "F = \\nabla_\\theta^2 \\overline{\\mathbb{KL}} \\left( \\pi_{\\theta_{\\text{old}}} \\| \\pi_\\theta \\right) \\big|_{\\theta_\\text{old}}\n",
    "$$"
   ]
  },
  {
   "cell_type": "markdown",
   "metadata": {},
   "source": [
    "This is just the Taylor series expansion around $\\theta_\\text{old}$, and the second order derivative of $L^{\\text{IS}}$ is negligible compared to the KL constraint so we drop it.\n",
    "\n",
    "The Hessian of the KL divergence is actually equal to the **Fisher information matrix** which measures how sensitive $\\pi_\\theta$ is to changes in $\\theta$.\n",
    "\n",
    "The solution to this second order approximation is given by \n",
    "\n",
    "$$\n",
    "\\theta = \\theta_\\text{old} + \\frac{1}{\\beta} F^{-1} g\n",
    "$$"
   ]
  },
  {
   "cell_type": "markdown",
   "metadata": {},
   "source": [
    "Making this step is known as the [**natural policy gradient**](https://wiseodd.github.io/techblog/2018/03/14/natural-gradient/), since step sizes are determined by changes in the action distribution rather than Euclidian distance between parameter vectors."
   ]
  },
  {
   "cell_type": "markdown",
   "metadata": {},
   "source": [
    "Once we have a solution, we may not have satisfied the original KL constraints due to our second-order approximation. To solve this, we add one final **line search** procedure:\n",
    "\n",
    "$$\n",
    "\\theta = \\theta_\\text{old} + \\alpha^j \\frac{1}{\\beta} F^{-1} g\n",
    "$$\n",
    "\n",
    "where $\\alpha \\in (0, 1)$ and $j$ is the smallest positive integer that satisfies the constraint"
   ]
  },
  {
   "cell_type": "markdown",
   "metadata": {},
   "source": [
    "While this method is good for yielding good step sizes for our policy improvement, it is actually extremely computationally intensive to compute and store the Hessian $F$ (and its inverse)."
   ]
  },
  {
   "cell_type": "markdown",
   "metadata": {},
   "source": [
    "Instead, we can try to directly compute $F^{-1}g$ without ever actually computing $F^{-1}$. If we solve the system of equations\n",
    "\n",
    "$$\n",
    "Fx = g\n",
    "$$\n",
    "\n",
    "for $x$, then we will have \n",
    "\n",
    "$$\n",
    "x = F^{-1}g\n",
    "$$\n",
    "\n",
    "We can solve large linear systems like this using **conjugate gradient methods**. This is exactly the approach taken by TRPO. All we need is a function that can compute the matrix-vector product $Fx$ rather than needing to actually compute $F$ by itself. To do this, we set up an operation that computes\n",
    "\n",
    "$$\n",
    "Fx = \\nabla_\\theta \\left( \\nabla_\\theta \\overline{\\mathbb{KL}}\\left( \\pi_{\\theta_{\\text{old}}} \\| \\pi_\\theta \\right)^T x \\right)\n",
    "$$\n"
   ]
  },
  {
   "cell_type": "markdown",
   "metadata": {},
   "source": [
    "which gives us the gradient of an inner product rather than a Hessian-vector product."
   ]
  },
  {
   "cell_type": "markdown",
   "metadata": {},
   "source": [
    "## Proximal Policy Optimization (PPO)\n",
    "\n",
    "In this post we will not be implementing TRPO for two reasons. First: it's a complex algorithm; more complex than all of the algorithms we have seen so far (DQN, REINFORCE, A2C). Second: a simpler method with the same foundations outperforms TRPO: **Proximal Policy Optimization** (PPO).\n",
    "\n",
    "PPO uses the same initial objective function as TRPO:\n",
    "\n",
    "$$\n",
    "L^{\\text{IS}} = \\mathbb{E}_\\tau \\left[ \\frac{\\pi_{\\theta}(a_t \\mid s_t)}{\\pi_{\\theta_{\\text{old}}}(a_t \\mid s_t)} \\hat{A}_t \\right]\n",
    "$$"
   ]
  },
  {
   "cell_type": "markdown",
   "metadata": {},
   "source": [
    "The point of TRPO is to try to find the largest step size possible that can improve the policy, and it does this by adding a constraint on the KL divergence between the new policy and the old policy.\n",
    "\n",
    "However, there is a simpler way to accomplish this: clipping the objective! \n",
    "\n",
    "Let's consider a new loss function $L^{\\text{clip}}$. To simplify notation let's denote\n",
    "\n",
    "$$\n",
    "r_t(\\theta) = \\frac{\\pi_{\\theta}(a_t \\mid s_t)}{\\pi_{\\theta_{\\text{old}}}(a_t \\mid s_t)} \n",
    "$$\n",
    "\n",
    "The **clipped objective function** essentially clips this ratio depending on the sign of the advantage:\n",
    "\n",
    "$$\n",
    "L^{\\text{CLIP}} = \\begin{cases}\n",
    "\\min \\left( r_t(\\theta), 1+\\epsilon \\right) \\hat{A}_t & \\text{if } \\hat{A}_t > 0 \\\\\n",
    "\\max \\left(r_t(\\theta), 1-\\epsilon \\right) \\hat{A}_t & \\text{if } \\hat{A}_t < 0\n",
    "\\end{cases}\n",
    "$$"
   ]
  },
  {
   "cell_type": "markdown",
   "metadata": {},
   "source": [
    "where $\\epsilon$ denotes how far the new policy can stray from the old policy.\n",
    "\n",
    "This picture from the [original PPO paper](https://arxiv.org/pdf/1707.06347.pdf) helps visualize the objective:"
   ]
  },
  {
   "cell_type": "markdown",
   "metadata": {},
   "source": [
    "![ppo-plot.png](ppo-plot.png)"
   ]
  },
  {
   "cell_type": "markdown",
   "metadata": {},
   "source": [
    "If the advantage is positive, then increasing $p(a_t \\mid s_t)$ (and thus $r_t(\\theta)$) will also increase the objective $L^{\\text{CLIP}}$. However, it will only increase the objective while $r_t(\\theta) \\leq 1 + \\epsilon$, after which the objective will stop increasing. This ensures that the ratio of probabilities of actions remains bounded.\n",
    "\n",
    "If the advantage is negative, then decreasing $p(a_t \\mid s_t)$ (and thus $r_t(\\theta)$) will increase the objective $L^{\\text{CLIP}}$. However, it will only decrease the objective while $r_t(\\theta) \\geq 1 - \\epsilon$, after which the objective will stop increasing. Again, this ensures the ratio of probabilities of actions remains bounded.\n",
    "\n",
    "This clipping provides a kind of pessimistic lower bound on the true objective $\\eta$ and, in a way, gives us kind of bounds on the KL divergence (like TRPO). We can essentially train an agent as if we were using A2C but instead of using $L^{\\text{PG}}$ the vanilla policy gradient objective, we use $L^{\\text{CLIP}}$.\n",
    "\n",
    "Since the clipped objective is supposed to be a lower bound on $\\eta$, we can optimize it \"completely\" just like in TRPO. In practice, this just means optimizing it for many gradient steps. This is in contrast to A2C and other vanilla policy gradient algorithms, which take a single gradient step and throw away their data. PPO manages to \"squeeze out\" as much information from the data as possible.\n",
    "\n",
    "It is still possible with clipping for the policy $\\pi_\\theta$ to move too far away from the old policy $\\pi_{\\theta_\\text{old}}$. One trick to prevent this is to calculate the mean KL divergence between the new and old policy over all actions and stop doing gradient steps when the KL divergences crosses a threshold."
   ]
  },
  {
   "cell_type": "markdown",
   "metadata": {},
   "source": [
    "As a quick aside: one of the great things about PPO is that it is highly compatible with parallelism. Since the policy loss uses data collected using an old policy $\\pi_{\\theta_{\\text{old}}}$, we can actually collect data in parallel using many agents that are hypothetically outdated and pool this data to a central learner, which can do updates *while the outdated agents continue to collect data*. The central learner occasionally updates the other agents to use the updated parameters. This way, learning doesn't have to cycle back and forth between optimization and data collection. However, we don't implement parallelism here."
   ]
  },
  {
   "cell_type": "markdown",
   "metadata": {},
   "source": [
    "Most of the code below is copied over from [previous posts]({% post_url 2020-07-16-a2c %}). We modify the `learn` method of the policy to use the updated clipped objective.\n",
    "\n",
    "One trick is, instead of using the ratio \n",
    "\n",
    "$$\n",
    "r_t(\\theta) = \\frac{\\pi_\\theta(a_t \\mid s_t)}{\\pi_{\\theta_{\\text{old}}}}\n",
    "$$"
   ]
  },
  {
   "cell_type": "markdown",
   "metadata": {},
   "source": [
    "we use\n",
    "\n",
    "$$\n",
    "r_t(\\theta) = \\exp \\left( \\log \\pi_\\theta(a_t \\mid s_t) - \\log \\pi_{\\theta_{\\text{old}}} \\right)\n",
    "$$"
   ]
  },
  {
   "cell_type": "markdown",
   "metadata": {},
   "source": [
    "since we can easily access the log probabilities for actions."
   ]
  },
  {
   "cell_type": "markdown",
   "metadata": {},
   "source": [
    "We also return an approximation to the KL divergence that can easily be computed using these log probabilities, so that we can stop optimizing when this KL divergence exceeds a certain threshold."
   ]
  },
  {
   "cell_type": "markdown",
   "metadata": {},
   "source": [
    "The last change is that we set the weights for the final layers of our policy and value networks to all-zeros. This reduces initial bias in the action distribution or value network that can make training unstable."
   ]
  },
  {
   "cell_type": "code",
   "execution_count": 1,
   "metadata": {},
   "outputs": [],
   "source": [
    "import copy\n",
    "import numpy as np\n",
    "import gym\n",
    "\n",
    "class VectorizedEnvWrapper(gym.Wrapper):\n",
    "    def __init__(self, env, num_envs=1):\n",
    "        '''\n",
    "        env (gym.Env): to make copies of\n",
    "        num_envs (int): number of copies\n",
    "        '''\n",
    "        super().__init__(env)\n",
    "        self.num_envs = num_envs\n",
    "        self.envs = [copy.deepcopy(env) for n in range(num_envs)]\n",
    "    \n",
    "    def reset(self):\n",
    "        '''\n",
    "        Return and reset each environment\n",
    "        '''\n",
    "        return np.asarray([env.reset() for env in self.envs])\n",
    "    \n",
    "    def step(self, actions):\n",
    "        '''\n",
    "        Take a step in the environment and return the result.\n",
    "        actions (torch.tensor)\n",
    "        '''\n",
    "        next_states, rewards, dones = [], [], []\n",
    "        for env, action in zip(self.envs, actions):\n",
    "            next_state, reward, done, _ = env.step(action.item())\n",
    "            if done:\n",
    "                next_states.append(env.reset())\n",
    "            else:\n",
    "                next_states.append(next_state)\n",
    "            rewards.append(reward)\n",
    "            dones.append(done)\n",
    "        return np.asarray(next_states), np.asarray(rewards), \\\n",
    "            np.asarray(dones)"
   ]
  },
  {
   "cell_type": "code",
   "execution_count": 2,
   "metadata": {},
   "outputs": [],
   "source": [
    "import torch\n",
    "\n",
    "class Policy:\n",
    "    def pi(self, s_t):\n",
    "        '''\n",
    "        returns the probability distribution over actions \n",
    "        (torch.distributions.Distribution)\n",
    "        \n",
    "        s_t (np.ndarray): the current state\n",
    "        '''\n",
    "        raise NotImplementedError\n",
    "    \n",
    "    def act(self, s_t):\n",
    "        '''\n",
    "        s_t (np.ndarray): the current state\n",
    "        Because of environment vectorization, this will produce\n",
    "        E actions where E is the number of parallel environments.\n",
    "        '''\n",
    "        pi = self.pi(s_t)\n",
    "        a_t = pi.sample()\n",
    "        log_prob = pi.log_prob(a_t).detach().numpy()\n",
    "        return a_t, log_prob\n",
    "    \n",
    "    def learn(self, states, actions, advantages, log_probs_old, epsilon):\n",
    "        '''\n",
    "        states (np.ndarray): the list of states encountered during\n",
    "                             rollout\n",
    "        actions (np.ndarray): the list of actions encountered during\n",
    "                              rollout\n",
    "        advantages (np.ndarray): the list of advantages encountered during\n",
    "                              rollout\n",
    "        log_probs_old (np.ndarray): the log probabilites of the actions in \n",
    "                                    the actions array according to the old\n",
    "                                    policy parameters\n",
    "        epsilon (float): how far the new policy can move from the old policy\n",
    "        \n",
    "        Because of environment vectorization, each of these has first\n",
    "        two dimensions TxE where T is the number of time steps in the\n",
    "        rollout and E is the number of parallel environments.\n",
    "        '''\n",
    "        actions = torch.tensor(actions)\n",
    "        advantages = torch.tensor(advantages)\n",
    "        log_probs_old = torch.tensor(log_probs_old)\n",
    "\n",
    "        log_probs = self.pi(states).log_prob(actions)\n",
    "        r_theta = torch.exp(log_probs - log_probs_old)\n",
    "        clipped = torch.where(advantages > 0, \n",
    "                              torch.min(r_theta, torch.tensor(1+epsilon).double()),\n",
    "                              torch.max(r_theta, torch.tensor(1-epsilon).double())\n",
    "                             )\n",
    "        loss = torch.mean(-clipped*advantages)\n",
    "        self.opt.zero_grad()\n",
    "        loss.backward()\n",
    "        self.opt.step()\n",
    "        \n",
    "        approx_kl = (log_probs_old - log_probs).mean().item()\n",
    "        return approx_kl"
   ]
  },
  {
   "cell_type": "code",
   "execution_count": 3,
   "metadata": {},
   "outputs": [],
   "source": [
    "class DiagonalGaussianPolicy(Policy):\n",
    "    def __init__(self, env, lr=1e-2):\n",
    "        '''\n",
    "        env (gym.Env): the environment\n",
    "        lr (float): learning rate\n",
    "        '''\n",
    "        self.N = env.observation_space.shape[0]\n",
    "        self.M = env.action_space.shape[0]\n",
    "        \n",
    "        self.mu = torch.nn.Sequential(\n",
    "            torch.nn.Linear(self.N, 64),\n",
    "            torch.nn.ReLU(),\n",
    "            torch.nn.Linear(64, self.M)\n",
    "        ).double()\n",
    "        \n",
    "        with torch.no_grad():\n",
    "            self.mu[-1].weight.fill_(0)\n",
    "            self.mu[-1].bias.fill_(0)\n",
    "\n",
    "        self.log_sigma = torch.ones(self.M, dtype=torch.double, requires_grad=True)\n",
    "\n",
    "        self.opt = torch.optim.Adam(list(self.mu.parameters()) + [self.log_sigma], lr=lr)\n",
    "        \n",
    "    def pi(self, s_t):\n",
    "        '''\n",
    "        returns the probability distribution over actions\n",
    "        s_t (np.ndarray): the current state\n",
    "        '''\n",
    "        s_t = torch.as_tensor(s_t).double()\n",
    "        mu = self.mu(s_t)\n",
    "        log_sigma = self.log_sigma\n",
    "        sigma = torch.exp(log_sigma)\n",
    "        pi = torch.distributions.MultivariateNormal(mu, torch.diag(sigma))\n",
    "        return pi"
   ]
  },
  {
   "cell_type": "code",
   "execution_count": 4,
   "metadata": {},
   "outputs": [],
   "source": [
    "class CategoricalPolicy(Policy):\n",
    "    def __init__(self, env, lr=1e-2):\n",
    "        '''\n",
    "        env (gym.Env): the environment\n",
    "        lr (float): learning rate\n",
    "        '''\n",
    "        self.N = env.observation_space.shape[0]\n",
    "        self.M = env.action_space.n\n",
    "        self.p = torch.nn.Sequential(\n",
    "            torch.nn.Linear(self.N, self.M),\n",
    "        ).double()\n",
    "        \n",
    "        with torch.no_grad():\n",
    "            self.p[-1].weight.fill_(0)\n",
    "            self.p[-1].bias.fill_(0)\n",
    "        \n",
    "        self.opt = torch.optim.Adam(self.p.parameters(), lr=lr)\n",
    "        \n",
    "    def pi(self, s_t):\n",
    "        '''\n",
    "        returns the probability distribution over actions\n",
    "        s_t (np.ndarray): the current state\n",
    "        '''\n",
    "        s_t = torch.as_tensor(s_t).double()\n",
    "        p = self.p(s_t)\n",
    "        pi = torch.distributions.Categorical(logits=p)\n",
    "        return pi"
   ]
  },
  {
   "cell_type": "code",
   "execution_count": 5,
   "metadata": {},
   "outputs": [],
   "source": [
    "class ValueEstimator:\n",
    "    def __init__(self, env, lr=1e-2):\n",
    "        self.N = env.observation_space.shape[0]\n",
    "        self.V = torch.nn.Sequential(\n",
    "            torch.nn.Linear(self.N, 64),\n",
    "            torch.nn.ReLU(),\n",
    "            torch.nn.Linear(64, 1)\n",
    "        ).double()\n",
    "\n",
    "        with torch.no_grad():\n",
    "            self.V[-1].weight.fill_(0)\n",
    "            self.V[-1].bias.fill_(0)\n",
    "\n",
    "        self.opt = torch.optim.Adam(self.V.parameters(), lr=lr)\n",
    "        \n",
    "    def predict(self, s_t):\n",
    "        s_t = torch.tensor(s_t)\n",
    "        return self.V(s_t).squeeze()\n",
    "\n",
    "    def learn(self, V_pred, returns):\n",
    "        returns = torch.tensor(returns)\n",
    "        loss = torch.mean((V_pred - returns)**2)\n",
    "        self.opt.zero_grad()\n",
    "        loss.backward()\n",
    "        self.opt.step()\n",
    "        \n",
    "        return loss"
   ]
  },
  {
   "cell_type": "code",
   "execution_count": 6,
   "metadata": {},
   "outputs": [],
   "source": [
    "def calculate_returns(rewards, dones, gamma):\n",
    "    result = np.empty_like(rewards)\n",
    "    result[-1] = rewards[-1]\n",
    "    for t in range(len(rewards)-2, -1, -1):\n",
    "        result[t] = rewards[t] + gamma*(1-dones[t])*result[t+1]\n",
    "    return result"
   ]
  },
  {
   "cell_type": "code",
   "execution_count": 7,
   "metadata": {},
   "outputs": [],
   "source": [
    "def calculate_advantages(TD_errors, lam, gamma):\n",
    "    result = np.empty_like(TD_errors)\n",
    "    result[-1] = TD_errors[-1]\n",
    "    for t in range(len(TD_errors)-2, -1, -1):\n",
    "        result[t] = TD_errors[t] + gamma*lam*result[t+1]\n",
    "    return result"
   ]
  },
  {
   "cell_type": "markdown",
   "metadata": {},
   "source": [
    "All we change from the `A2C` method in the previous post is to also store the `log_probs_old` for each time step, as well as add a parameter `epsilon` for the PPO objective. We pass these two extra bits of information to the policy's `learn` method. Every thing else is identical to what we wrote in the previous posts."
   ]
  },
  {
   "cell_type": "code",
   "execution_count": 8,
   "metadata": {},
   "outputs": [],
   "source": [
    "import seaborn as sns; sns.set()\n",
    "\n",
    "def PPO(env, agent, value_estimator, \n",
    "        gamma=0.99, lam=0.95, \n",
    "        epsilon=0.1, kl_threshold = 1e-2,\n",
    "        train_V_iters=80, train_pi_iters=80,\n",
    "        epochs=256, T=4052):    \n",
    "    states = np.empty((T+1, env.num_envs, agent.N))\n",
    "    if isinstance(env.action_space, gym.spaces.Discrete):\n",
    "        actions = np.empty((T, env.num_envs))\n",
    "    else:\n",
    "        actions = np.empty((T, env.num_envs, agent.M))\n",
    "    rewards = np.empty((T, env.num_envs))\n",
    "    dones = np.empty((T, env.num_envs))\n",
    "    log_probs_old = np.empty((T, env.num_envs))\n",
    "    \n",
    "    totals = []\n",
    "    \n",
    "    s_t = env.reset()\n",
    "    for epoch in range(epochs):\n",
    "        for t in range(T):\n",
    "            a_t, log_prob = agent.act(s_t)\n",
    "            s_t_next, r_t, d_t = env.step(a_t)\n",
    "\n",
    "            states[t] = s_t\n",
    "            actions[t] = a_t\n",
    "            rewards[t] = r_t\n",
    "            dones[t] = d_t\n",
    "            log_probs_old[t] = log_prob\n",
    "\n",
    "            s_t = s_t_next\n",
    "        \n",
    "        states[T] = s_t\n",
    "\n",
    "        # bootstrap\n",
    "        V_last = value_estimator.predict(states[-1]).detach().numpy() \n",
    "        rewards[-1] += gamma*(1-dones[-1])*V_last\n",
    "        returns = calculate_returns(rewards, dones, gamma)\n",
    "            \n",
    "        for i in range(train_V_iters):\n",
    "            V_pred = value_estimator.predict(states)\n",
    "            value_estimator.learn(V_pred[:-1], returns)\n",
    "        \n",
    "        # compute advantages\n",
    "        V_pred = V_pred.detach().numpy()\n",
    "        TD_errors = rewards + gamma*(1-dones)*V_pred[1:] - V_pred[:-1]\n",
    "        advantages = calculate_advantages(TD_errors, lam, gamma)\n",
    "        \n",
    "        # normalize advantages\n",
    "        advantages = (advantages - advantages.mean())/advantages.std()\n",
    "        \n",
    "        for i in range(train_pi_iters):\n",
    "            approx_kl = agent.learn(states[:-1], actions, advantages, log_probs_old, epsilon)\n",
    "            if approx_kl > kl_threshold:\n",
    "                break\n",
    "        \n",
    "        totals.append(rewards.sum()/dones.sum())\n",
    "        print(f'{epoch}/{epochs}:{totals[-1]}\\r', end='')\n",
    "        \n",
    "    sns.lineplot(x=range(len(totals)), y=totals)"
   ]
  },
  {
   "cell_type": "code",
   "execution_count": 16,
   "metadata": {},
   "outputs": [
    {
     "name": "stdout",
     "output_type": "stream",
     "text": [
      "99/100:201.56342509076748\r"
     ]
    },
    {
     "data": {
      "image/png": "[encoded data removed]",
      "text/plain": [
       "<Figure size 432x288 with 1 Axes>"
      ]
     },
     "metadata": {},
     "output_type": "display_data"
    }
   ],
   "source": [
    "cartpole = VectorizedEnvWrapper(gym.make(\"CartPole-v0\"), num_envs=8)\n",
    "categorical = CategoricalPolicy(cartpole, lr=1e-2)\n",
    "value_estimator = ValueEstimator(cartpole, lr=1e-2)\n",
    "PPO(cartpole, categorical, value_estimator, epochs=100)"
   ]
  },
  {
   "cell_type": "markdown",
   "metadata": {},
   "source": [
    "The learning curve for `CartPole-v0` is significantly steeper than for A2C. The learning is fast and stable. Compare this to the learning curve for A2C:"
   ]
  },
  {
   "cell_type": "markdown",
   "metadata": {},
   "source": [
    "![cartpole-a2c.png](cartpole-a2c.png)"
   ]
  },
  {
   "cell_type": "code",
   "execution_count": 15,
   "metadata": {},
   "outputs": [
    {
     "name": "stdout",
     "output_type": "stream",
     "text": [
      "255/256:355.93041074368043\r"
     ]
    },
    {
     "data": {
      "image/png": "[encoded data removed]",
      "text/plain": [
       "<Figure size 432x288 with 1 Axes>"
      ]
     },
     "metadata": {},
     "output_type": "display_data"
    }
   ],
   "source": [
    "import gym_cartpole_swingup\n",
    "swingup = VectorizedEnvWrapper(gym.make(\"CartPoleSwingUp-v0\"), num_envs=8)\n",
    "digauss = DiagonalGaussianPolicy(swingup, lr=1e-2)\n",
    "value_estimator = ValueEstimator(swingup, lr=1e-1)\n",
    "PPO(swingup, digauss, value_estimator, gamma=0.999, lam=0.99)"
   ]
  },
  {
   "cell_type": "markdown",
   "metadata": {},
   "source": [
    "I ran 36 random seeds using these hyperparameters to get an idea of the distribution of learning, so that we can compare it to the distribution of learning for A2C. I just used the same hyperparameters as for A2C. Hyperparameters were not tuned specifically for PPO."
   ]
  },
  {
   "cell_type": "markdown",
   "metadata": {},
   "source": [
    "Learning for A2C:\n",
    "\n",
    "![swingup-multi-a2c.png](swingup-multi-a2c.png)"
   ]
  },
  {
   "cell_type": "markdown",
   "metadata": {},
   "source": [
    "Learning for PPO:\n",
    "\n",
    "![swingup.png](swingup.png)"
   ]
  },
  {
   "cell_type": "markdown",
   "metadata": {},
   "source": [
    "As we can see, the learnin curve is much steeper - every agent manages to \"solve\" the environment. The variability in performance that we see (random drops in performance) tend to resolve themselves extremely quickly, and decrease in magnitude with time. In contrast, only some agents using A2C reach this level of performance.\n"
   ]
  },
  {
   "cell_type": "markdown",
   "metadata": {},
   "source": [
    "Finally, just for fun, let's look at some GIFs of the learned policies! "
   ]
  },
  {
   "cell_type": "code",
   "execution_count": null,
   "metadata": {},
   "outputs": [],
   "source": [
    "import imageio\n",
    "from PIL import Image\n",
    "\n",
    "def generate_gif(env, agent, filename, T=200):\n",
    "    frames = []\n",
    "    s_t = env.reset()\n",
    "    for t in range(T):\n",
    "        a_t, _ = agent.act(s_t)\n",
    "        s_t, r_t, d_t = env.step(a_t)\n",
    "        frame = env.envs[0].render(mode='rgb_array')\n",
    "        frames.append(frame)\n",
    "        print(t)\n",
    "\n",
    "    images_list = [Image.fromarray(frame) for frame in frames]\n",
    "    imageio.mimsave(f'{filename}.gif', frames, duration=0.02)"
   ]
  },
  {
   "cell_type": "code",
   "execution_count": null,
   "metadata": {},
   "outputs": [],
   "source": [
    "generate_gif(cartpole, categorical, 'cartpole')"
   ]
  },
  {
   "cell_type": "markdown",
   "metadata": {},
   "source": [
    "![cartpole.gif](cartpole.gif)"
   ]
  },
  {
   "cell_type": "code",
   "execution_count": null,
   "metadata": {},
   "outputs": [],
   "source": [
    "generate_gif(swingup, digauss, 'swingup', T=4000)"
   ]
  },
  {
   "cell_type": "markdown",
   "metadata": {},
   "source": [
    "![swingup.gif](swingup.gif)"
   ]
  },
  {
   "cell_type": "code",
   "execution_count": null,
   "metadata": {},
   "outputs": [],
   "source": []
  }
 ],
 "metadata": {
  "kernelspec": {
   "display_name": "Python 3",
   "language": "python",
   "name": "python3"
  },
  "language_info": {
   "codemirror_mode": {
    "name": "ipython",
    "version": 3
   },
   "file_extension": ".py",
   "mimetype": "text/x-python",
   "name": "python",
   "nbconvert_exporter": "python",
   "pygments_lexer": "ipython3",
   "version": "3.7.7"
  }
 },
 "nbformat": 4,
 "nbformat_minor": 4
}
