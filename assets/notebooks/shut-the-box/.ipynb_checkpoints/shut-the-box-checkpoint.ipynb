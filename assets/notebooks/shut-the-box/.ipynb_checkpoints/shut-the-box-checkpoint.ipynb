{
 "cells": [
  {
   "cell_type": "raw",
   "metadata": {},
   "source": [
    "---\n",
    "permalink: /shut-the-box/\n",
    "layout: single\n",
    "author_profile: true\n",
    "folder: \"shut-the-box\"\n",
    "ipynb: \"shut-the-box.ipynb\"\n",
    "md: \"shut-the-box.md\"\n",
    "---"
   ]
  },
  {
   "cell_type": "markdown",
   "metadata": {},
   "source": [
    "At the beginning of the game, **tiles** numbered $1$ through $10$ (some variants go to $9$, some to $12$) are positioned in an \"up\" position. The player rolls two dice and adds the rolls together. The player then chooses tiles in the \"up\" position whose numbers add to the roll and puts them in the \"down\" position. The goal is to eventually put every tile down.\n",
    "\n",
    "For example, if the tiles that are up are $1, 3, 4, 6, 7, 8$ and the player rolls a $4$ and a $3$, then they may put down the $7$ tile, the $6$ and $1$ tiles, or the $4$ and $3$ tiles. We can think of these as the player's possible \"moves\".\n",
    "\n",
    "Sometimes a roll will be made where it is not possible to put down tiles that add up to the roll. In this case, the game is over. In the original game, you would add up the values on the tiles that are still in the \"up\" position, and this would be your score. A higher score would be worse. However, in the game we played, our goal was just to put all of the tiles down (\"shut the box\"). "
   ]
  },
  {
   "cell_type": "markdown",
   "metadata": {},
   "source": [
    "![game](game.png)"
   ]
  },
  {
   "cell_type": "markdown",
   "metadata": {},
   "source": [
    "We passed the game around many times and we often got close, but none of us won despite trying for a long time."
   ]
  },
  {
   "cell_type": "markdown",
   "metadata": {},
   "source": [
    "Something funny happens when you take computer science. You begin to think of problems like this in terms of algorithms and mathematically optimal strategies. I told my friends that \"I could probably write a Python program to play this game optimally\". I realized that, given a configuration of tiles that are up and down, and given a roll total, the optimal move  is the one with the largest number of possible winning outcomes. \n",
    "\n",
    "Some configurations are harder to \"win\" than others. As a simple example, a configuration with only the $1$ tile in the up position is impossible to solve since the smallest number that can be rolled with two dice is $2$. A configuration with only the $7$ tile up is easier to solve than one with only the $3$ tile up, since more dice combinations sum to $7$ than to $3$. "
   ]
  },
  {
   "cell_type": "markdown",
   "metadata": {},
   "source": [
    "A naive approach to this problem would take the current configuration and the current roll, and iterate through each legal move. It would recursively traverse the game tree until it found a winning move, and it would count that towards the total number of winning moves from that configuration. "
   ]
  },
  {
   "cell_type": "markdown",
   "metadata": {},
   "source": [
    "![tree](tree.png)"
   ]
  },
  {
   "cell_type": "markdown",
   "metadata": {},
   "source": [
    "This game tree is compressed. Technically there should be branches for every possible roll of dice one, every possible roll of dice two, and every possible legal move given their sum and the current configuration. The given game tree assumes an initial configuration of the $1, 3, 4, 6, 7$ tiles being up and the dice total being $7$. There are three legal moves, each of which result in a new configuration of tiles. We would count, from each of these configurations, the number of sequences of moves that could possibly lead to a win.\n",
    "\n",
    "The straightforward way to traverse the game tree is to use recursion. For each possible move, count the number of sequences of moves beginning with this move that could lead to a win. At the bottom of the recursion tree, we encounter configurations that can be solved in a single move (such as the two moves leading to **Shut the Box!** in the game tree diagram).\n",
    "\n",
    "This is a naive approach because we will repeatedly encounter the same configurations of tiles by arriving at them via different sequences of moves. As a result, all of the work for counting the number of winning sequences of moves from this configuration onwards will be repeated."
   ]
  },
  {
   "cell_type": "markdown",
   "metadata": {},
   "source": [
    "This is where dynamic programming comes in. We use dynamic programming when a problem can be solved by recursively solving subproblems and combining their results, and the solutions to these subproblems are used multiple times in the overall solution. The idea is to only compute the solution to each subproblem once and to store it, and then look up the solution the next time that you need to use it."
   ]
  },
  {
   "cell_type": "markdown",
   "metadata": {},
   "source": [
    "What is the best approach to using dynamic programming to solve this problem then? Whereas with recursion we start at the top of the recursion tree, in dynamic programming we start at the bottom. We ask, \"for every configuration of tiles, how many ways can you solve it in a single move?\". We can actually list this relatively easily by just looking at the integer partitions of the numbers $2$ through $12$ with unique elements.\n",
    "\n",
    "The following code was provided by [Jerome Kelleher](http://jeromekelleher.net/generating-integer-partitions.html) for providing fast integer partitions:"
   ]
  },
  {
   "cell_type": "code",
   "execution_count": 1,
   "metadata": {},
   "outputs": [],
   "source": [
    "def integer_partitions(n):\n",
    "    \"\"\"\n",
    "    Generates the integer partitions of n.\n",
    "    Source:\n",
    "    \n",
    "    Returns: list of ints.\n",
    "    \"\"\"\n",
    "    a = [0 for i in range(n + 1)]\n",
    "    k = 1\n",
    "    y = n - 1\n",
    "    while k != 0:\n",
    "        x = a[k - 1] + 1\n",
    "        k -= 1\n",
    "        while 2 * x <= y:\n",
    "            a[k] = x\n",
    "            y -= x\n",
    "            k += 1\n",
    "        l = k + 1\n",
    "        while x <= y:\n",
    "            a[k] = x\n",
    "            a[l] = y\n",
    "            yield a[:k + 2]\n",
    "            x += 1\n",
    "            y -= 1\n",
    "        a[k] = x + y\n",
    "        y = x + y - 1\n",
    "        yield a[:k + 1]"
   ]
  },
  {
   "cell_type": "markdown",
   "metadata": {},
   "source": [
    "We can filter out the partitions that contain duplicate elements quickly in python by converting the list of integers returned by this function to a `set` or `frozenset`. This has additional benefits since using the native `set` data type lets us do important fast operations, such as checking set membership in $O(1)$ time."
   ]
  },
  {
   "cell_type": "code",
   "execution_count": 2,
   "metadata": {},
   "outputs": [],
   "source": [
    "def unique_integer_partitions(n):\n",
    "    for partition in integer_partitions(n):\n",
    "        set_partition = frozenset(partition)\n",
    "        if len(set_partition) == len(partition): # check each element is unique\n",
    "            yield set_partition"
   ]
  },
  {
   "cell_type": "code",
   "execution_count": 3,
   "metadata": {},
   "outputs": [
    {
     "name": "stdout",
     "output_type": "stream",
     "text": [
      "frozenset({2})\n",
      "frozenset({1, 2})\n",
      "frozenset({3})\n",
      "frozenset({1, 3})\n",
      "frozenset({4})\n",
      "frozenset({1, 4})\n",
      "frozenset({2, 3})\n",
      "frozenset({5})\n",
      "frozenset({1, 2, 3})\n",
      "frozenset({1, 5})\n",
      "frozenset({2, 4})\n",
      "frozenset({6})\n",
      "frozenset({1, 2, 4})\n",
      "frozenset({1, 6})\n",
      "frozenset({2, 5})\n",
      "frozenset({3, 4})\n",
      "frozenset({7})\n",
      "frozenset({1, 2, 5})\n",
      "frozenset({1, 3, 4})\n",
      "frozenset({1, 7})\n",
      "frozenset({2, 6})\n",
      "frozenset({3, 5})\n",
      "frozenset({8})\n",
      "frozenset({1, 2, 6})\n",
      "frozenset({1, 3, 5})\n",
      "frozenset({8, 1})\n",
      "frozenset({2, 3, 4})\n",
      "frozenset({2, 7})\n",
      "frozenset({3, 6})\n",
      "frozenset({4, 5})\n",
      "frozenset({9})\n",
      "frozenset({1, 2, 3, 4})\n",
      "frozenset({1, 2, 7})\n",
      "frozenset({1, 3, 6})\n",
      "frozenset({1, 4, 5})\n",
      "frozenset({1, 9})\n",
      "frozenset({2, 3, 5})\n",
      "frozenset({8, 2})\n",
      "frozenset({3, 7})\n",
      "frozenset({4, 6})\n",
      "frozenset({10})\n",
      "frozenset({1, 2, 3, 5})\n",
      "frozenset({8, 1, 2})\n",
      "frozenset({1, 3, 7})\n",
      "frozenset({1, 4, 6})\n",
      "frozenset({1, 10})\n",
      "frozenset({2, 3, 6})\n",
      "frozenset({2, 4, 5})\n",
      "frozenset({9, 2})\n",
      "frozenset({8, 3})\n",
      "frozenset({4, 7})\n",
      "frozenset({5, 6})\n",
      "frozenset({11})\n",
      "frozenset({1, 2, 3, 6})\n",
      "frozenset({1, 2, 4, 5})\n",
      "frozenset({1, 2, 9})\n",
      "frozenset({8, 1, 3})\n",
      "frozenset({1, 4, 7})\n",
      "frozenset({1, 5, 6})\n",
      "frozenset({1, 11})\n",
      "frozenset({2, 3, 7})\n",
      "frozenset({2, 4, 6})\n",
      "frozenset({2, 10})\n",
      "frozenset({3, 4, 5})\n",
      "frozenset({9, 3})\n",
      "frozenset({8, 4})\n",
      "frozenset({5, 7})\n",
      "frozenset({12})\n"
     ]
    }
   ],
   "source": [
    "for roll_total in range(2, 13):\n",
    "    for config in unique_integer_partitions(roll_total):\n",
    "        print(config)"
   ]
  },
  {
   "cell_type": "markdown",
   "metadata": {},
   "source": [
    "This gives us a base to work from when using dynamic programming. For the next step, we can ask \"for every configuration of tiles, how many ways can you solve it in two moves?\". The answer then becomes simple: how many ways can we make a move that results in a configuration that can be solved in a single move? We can simply iterate through each possible dice roll for each dice, and for each total we can iterate through each legal move. We can then tally up how many of the next configurations can be solved in a single move, and this tells us how many can be solved in two moves. The process is identical for three moves, and so on."
   ]
  },
  {
   "cell_type": "markdown",
   "metadata": {},
   "source": [
    "To make things easier, we represent configurations (`config`) as a python `frozenset` of integers representing which tiles are still in the up position. We also represent moves as a `frozenset` of integers representing which tiles to be put down. We can combine `config`s with `unique_integer_partitions` to generate legal moves given a dice roll total:"
   ]
  },
  {
   "cell_type": "code",
   "execution_count": 4,
   "metadata": {},
   "outputs": [],
   "source": [
    "def gen_moves(config, n):\n",
    "    for partition in unique_integer_partitions(n):\n",
    "        if partition.issubset(config):\n",
    "            yield partition"
   ]
  },
  {
   "cell_type": "code",
   "execution_count": 5,
   "metadata": {},
   "outputs": [
    {
     "name": "stdout",
     "output_type": "stream",
     "text": [
      "frozenset({1, 6})\n",
      "frozenset({3, 4})\n",
      "frozenset({7})\n"
     ]
    }
   ],
   "source": [
    "for move in gen_moves(frozenset([1,3,4,6,7]), 7):\n",
    "    print(move)"
   ]
  },
  {
   "cell_type": "markdown",
   "metadata": {},
   "source": [
    "To store our precomputed results, we will use a table. The rows of the table will correspond to each possible configuration of tiles (all $2^{10}$ of them), and the columns will represent the number of moves used to solve it. The entries in the table will correspond to the number of of ways that configuration can be solved in the given number of moves."
   ]
  },
  {
   "cell_type": "markdown",
   "metadata": {},
   "source": [
    "To generate every possible configuration of tiles, we can use the [itertools recipe for generating the power set of a set](https://docs.python.org/3/library/itertools.html#itertools-recipes):"
   ]
  },
  {
   "cell_type": "code",
   "execution_count": 6,
   "metadata": {},
   "outputs": [],
   "source": [
    "from itertools import chain, combinations\n",
    "\n",
    "def powerset(iterable):\n",
    "    s = list(iterable)\n",
    "    subsets = chain.from_iterable(\n",
    "        combinations(s, size) for size in range(len(s)+1))\n",
    "    return [frozenset(subset) for subset in subsets]"
   ]
  },
  {
   "cell_type": "code",
   "execution_count": 7,
   "metadata": {},
   "outputs": [],
   "source": [
    "configs = powerset(range(1, 11))"
   ]
  },
  {
   "cell_type": "markdown",
   "metadata": {},
   "source": [
    "The initial game begins with all tiles in the up position. "
   ]
  },
  {
   "cell_type": "code",
   "execution_count": 8,
   "metadata": {},
   "outputs": [
    {
     "data": {
      "text/plain": [
       "frozenset({1, 2, 3, 4, 5, 6, 7, 8, 9, 10})"
      ]
     },
     "execution_count": 8,
     "metadata": {},
     "output_type": "execute_result"
    }
   ],
   "source": [
    "configs[-1]"
   ]
  },
  {
   "cell_type": "markdown",
   "metadata": {},
   "source": [
    "We can precompute the available moves for each configuration-roll pair to reduce computation costs:"
   ]
  },
  {
   "cell_type": "code",
   "execution_count": 9,
   "metadata": {},
   "outputs": [],
   "source": [
    "movelist = {config:\n",
    "                {roll:list(gen_moves(config, roll)) for roll in range(2, 13)} \n",
    "            for config in configs}"
   ]
  },
  {
   "cell_type": "markdown",
   "metadata": {},
   "source": [
    "To create our table, we will use a `dict` of `dict`s where the first key is the configuration of tiles and the second key is the number of moves to solve that configuration. This allows us to use our `config`s as keys, and is also a format supported by `pandas` which will let us explore data easily using csv files."
   ]
  },
  {
   "cell_type": "code",
   "execution_count": 10,
   "metadata": {},
   "outputs": [],
   "source": [
    "max_moves = 12\n",
    "num_moves = {config:\n",
    "                 {i:0 for i in range(1, max_moves)} \n",
    "             for config in configs}"
   ]
  },
  {
   "cell_type": "markdown",
   "metadata": {},
   "source": [
    "The implementation itself is relatively straightforward. For each number of moves, for each configuration of tiles, we iterate through each legal move and add the number of ways each resulting configuration can be solved. To make things even faster, rather than iterate through each roll of each dice, we can simply iterate through the roll totals ($2$ through $12$) and multiply our counts by the number of ways that total can be rolled."
   ]
  },
  {
   "cell_type": "code",
   "execution_count": 11,
   "metadata": {},
   "outputs": [],
   "source": [
    "ways_to_roll = {\n",
    "    2:1,\n",
    "    3:2,\n",
    "    4:3,\n",
    "    5:4,\n",
    "    6:5,\n",
    "    7:6,\n",
    "    8:5,\n",
    "    9:4,\n",
    "    10:3,\n",
    "    11:2,\n",
    "    12:1\n",
    "}"
   ]
  },
  {
   "cell_type": "code",
   "execution_count": 12,
   "metadata": {},
   "outputs": [],
   "source": [
    "for move_num in range(1, max_moves):\n",
    "    for config in configs:\n",
    "        for roll in range(2, 13):\n",
    "            for move in movelist[config][roll]:\n",
    "                config_after_move = config - move\n",
    "                if move_num == 1:\n",
    "                    if len(config_after_move) == 0:\n",
    "                        num_moves[config][move_num] = ways_to_roll[roll]\n",
    "                else:\n",
    "                    num = num_moves[config_after_move][move_num-1]\n",
    "                    num_moves[config][move_num] += ways_to_roll[roll]*num"
   ]
  },
  {
   "cell_type": "markdown",
   "metadata": {},
   "source": [
    "We can see that the algorithm itself is very quick because it essentially involves table lookups and avoids recursively recomputing work that was already done.\n",
    "\n",
    "Let's take a peek inside."
   ]
  },
  {
   "cell_type": "code",
   "execution_count": 13,
   "metadata": {},
   "outputs": [
    {
     "data": {
      "text/plain": [
       "{1: 0,\n",
       " 2: 0,\n",
       " 3: 0,\n",
       " 4: 0,\n",
       " 5: 117120,\n",
       " 6: 465677280,\n",
       " 7: 27229396320,\n",
       " 8: 166670380800,\n",
       " 9: 161989632000,\n",
       " 10: 0,\n",
       " 11: 0}"
      ]
     },
     "execution_count": 13,
     "metadata": {},
     "output_type": "execute_result"
    }
   ],
   "source": [
    "initial_config = configs[-1]\n",
    "num_moves[initial_config]"
   ]
  },
  {
   "cell_type": "markdown",
   "metadata": {},
   "source": [
    "We can see that, for the initial configuration, the game can only be solved in $5$ to $9$ moves. There are no $4$-move solutions (or less) and are no $10$-move solutions (or more). \n",
    "\n",
    "But how do we use this table to actually extract the best move, given a configuration and a roll total? Given the configuration, we can iterate through each legal move and see how many ways the resulting configuration can be solved. Computing this is straightforward: we sum the ways that configuration can be solved in $1$ move, in $2$ moves, in $3$ moves, etc. to get the total number of ways it can be solved. The best move for that configuration-roll pair is the move that results in the configuration with the largest number of ways to be solved."
   ]
  },
  {
   "cell_type": "code",
   "execution_count": 14,
   "metadata": {},
   "outputs": [],
   "source": [
    "best_moves = {config:\n",
    "                  {roll:None for roll in range(2, 13)} \n",
    "              for config in configs}\n",
    "                        \n",
    "for config in configs:\n",
    "    for roll in range(2, 13):\n",
    "        moves = movelist[config][roll]\n",
    "        if len(moves) == 0:\n",
    "            continue\n",
    "        num_wins = [sum([num_moves[config - move][move_num] \n",
    "                         for move_num in range(1, max_moves)]) \n",
    "                    for move in moves]\n",
    "        best_move = moves[num_wins.index(max(num_wins))]\n",
    "        best_moves[config][roll] = best_move"
   ]
  },
  {
   "cell_type": "markdown",
   "metadata": {},
   "source": [
    "Finally, we can test the effectiveness of using our optimal strategy by simulating the game and comparing to a strategy that uses random moves. Let us start by defining two strategies:"
   ]
  },
  {
   "cell_type": "code",
   "execution_count": 15,
   "metadata": {},
   "outputs": [],
   "source": [
    "import random"
   ]
  },
  {
   "cell_type": "code",
   "execution_count": 16,
   "metadata": {},
   "outputs": [],
   "source": [
    "def random_strategy(config, roll):\n",
    "    moves = movelist[config][roll]\n",
    "    if len(moves) == 0:\n",
    "        return None\n",
    "    return random.choice(moves)\n",
    "\n",
    "def optimal_strategy(config, roll):\n",
    "    return best_moves[config][roll]"
   ]
  },
  {
   "cell_type": "markdown",
   "metadata": {},
   "source": [
    "Also, simulating Shut the Box if very easy to do since making moves just corresponds to subtracting moves (`frozenset`s) from the configuration until either there are no more moves (game over) or the configuration is reduced to the empty set (you win)."
   ]
  },
  {
   "cell_type": "code",
   "execution_count": 17,
   "metadata": {},
   "outputs": [],
   "source": [
    "def simulate(strategy):\n",
    "    \"\"\"\n",
    "    Simulates a game of Shut the Box.\n",
    "    strategy: callable(config: frozenset, roll: int) -> move: frozenset\n",
    "    returns: boolean (whether the game was won or not)\n",
    "    \"\"\"\n",
    "    config = frozenset(range(1, 11))\n",
    "    while len(config) > 0:\n",
    "        roll = random.randint(1, 6) + random.randint(1, 6)\n",
    "        move = strategy(config, roll)\n",
    "        if move is None:\n",
    "            # No winning moves. Game over.\n",
    "            return False\n",
    "        config = config - move\n",
    "    # You won!\n",
    "    return True\n",
    "\n",
    "def evaluate(strategy, N=1000000):\n",
    "    \"\"\"\n",
    "    Evaluates a strategy for Shut the Box.\n",
    "    strategy: callable(config: frozenset, roll: int) -> move: frozenset\n",
    "    N: int. Number of iterations.\n",
    "    returns: float (the proportion of games that are won)\n",
    "    \"\"\"\n",
    "    wins = 0\n",
    "    for n in range(N):\n",
    "        if simulate(strategy):\n",
    "            wins += 1\n",
    "    return wins/N"
   ]
  },
  {
   "cell_type": "markdown",
   "metadata": {},
   "source": [
    "Finally, let's evaluate a random strategy versus an optimal strategy:"
   ]
  },
  {
   "cell_type": "code",
   "execution_count": 18,
   "metadata": {},
   "outputs": [
    {
     "ename": "KeyboardInterrupt",
     "evalue": "",
     "output_type": "error",
     "traceback": [
      "\u001b[0;31m---------------------------------------------------------------------------\u001b[0m",
      "\u001b[0;31mKeyboardInterrupt\u001b[0m                         Traceback (most recent call last)",
      "\u001b[0;32m<ipython-input-18-039d53f9c329>\u001b[0m in \u001b[0;36m<module>\u001b[0;34m\u001b[0m\n\u001b[0;32m----> 1\u001b[0;31m \u001b[0mprint\u001b[0m\u001b[0;34m(\u001b[0m\u001b[0;34mf'Random strategy:{100*evaluate(random_strategy):.2f}'\u001b[0m\u001b[0;34m)\u001b[0m\u001b[0;34m\u001b[0m\u001b[0;34m\u001b[0m\u001b[0m\n\u001b[0m\u001b[1;32m      2\u001b[0m \u001b[0mprint\u001b[0m\u001b[0;34m(\u001b[0m\u001b[0;34mf'Optimal strategy:{100*evaluate(optimal_strategy):.2f}'\u001b[0m\u001b[0;34m)\u001b[0m\u001b[0;34m\u001b[0m\u001b[0;34m\u001b[0m\u001b[0m\n",
      "\u001b[0;32m<ipython-input-17-9689fa6bfd5a>\u001b[0m in \u001b[0;36mevaluate\u001b[0;34m(strategy, N)\u001b[0m\n\u001b[1;32m     25\u001b[0m     \u001b[0mwins\u001b[0m \u001b[0;34m=\u001b[0m \u001b[0;36m0\u001b[0m\u001b[0;34m\u001b[0m\u001b[0;34m\u001b[0m\u001b[0m\n\u001b[1;32m     26\u001b[0m     \u001b[0;32mfor\u001b[0m \u001b[0mn\u001b[0m \u001b[0;32min\u001b[0m \u001b[0mrange\u001b[0m\u001b[0;34m(\u001b[0m\u001b[0mN\u001b[0m\u001b[0;34m)\u001b[0m\u001b[0;34m:\u001b[0m\u001b[0;34m\u001b[0m\u001b[0;34m\u001b[0m\u001b[0m\n\u001b[0;32m---> 27\u001b[0;31m         \u001b[0;32mif\u001b[0m \u001b[0msimulate\u001b[0m\u001b[0;34m(\u001b[0m\u001b[0mstrategy\u001b[0m\u001b[0;34m)\u001b[0m\u001b[0;34m:\u001b[0m\u001b[0;34m\u001b[0m\u001b[0;34m\u001b[0m\u001b[0m\n\u001b[0m\u001b[1;32m     28\u001b[0m             \u001b[0mwins\u001b[0m \u001b[0;34m+=\u001b[0m \u001b[0;36m1\u001b[0m\u001b[0;34m\u001b[0m\u001b[0;34m\u001b[0m\u001b[0m\n\u001b[1;32m     29\u001b[0m     \u001b[0;32mreturn\u001b[0m \u001b[0mwins\u001b[0m\u001b[0;34m/\u001b[0m\u001b[0mN\u001b[0m\u001b[0;34m\u001b[0m\u001b[0;34m\u001b[0m\u001b[0m\n",
      "\u001b[0;32m<ipython-input-17-9689fa6bfd5a>\u001b[0m in \u001b[0;36msimulate\u001b[0;34m(strategy)\u001b[0m\n\u001b[1;32m      5\u001b[0m     \u001b[0mreturns\u001b[0m\u001b[0;34m:\u001b[0m \u001b[0mboolean\u001b[0m \u001b[0;34m(\u001b[0m\u001b[0mwhether\u001b[0m \u001b[0mthe\u001b[0m \u001b[0mgame\u001b[0m \u001b[0mwas\u001b[0m \u001b[0mwon\u001b[0m \u001b[0;32mor\u001b[0m \u001b[0;32mnot\u001b[0m\u001b[0;34m)\u001b[0m\u001b[0;34m\u001b[0m\u001b[0;34m\u001b[0m\u001b[0m\n\u001b[1;32m      6\u001b[0m     \"\"\"\n\u001b[0;32m----> 7\u001b[0;31m     \u001b[0mconfig\u001b[0m \u001b[0;34m=\u001b[0m \u001b[0mfrozenset\u001b[0m\u001b[0;34m(\u001b[0m\u001b[0mrange\u001b[0m\u001b[0;34m(\u001b[0m\u001b[0;36m1\u001b[0m\u001b[0;34m,\u001b[0m \u001b[0;36m11\u001b[0m\u001b[0;34m)\u001b[0m\u001b[0;34m)\u001b[0m\u001b[0;34m\u001b[0m\u001b[0;34m\u001b[0m\u001b[0m\n\u001b[0m\u001b[1;32m      8\u001b[0m     \u001b[0;32mwhile\u001b[0m \u001b[0mlen\u001b[0m\u001b[0;34m(\u001b[0m\u001b[0mconfig\u001b[0m\u001b[0;34m)\u001b[0m \u001b[0;34m>\u001b[0m \u001b[0;36m0\u001b[0m\u001b[0;34m:\u001b[0m\u001b[0;34m\u001b[0m\u001b[0;34m\u001b[0m\u001b[0m\n\u001b[1;32m      9\u001b[0m         \u001b[0mroll\u001b[0m \u001b[0;34m=\u001b[0m \u001b[0mrandom\u001b[0m\u001b[0;34m.\u001b[0m\u001b[0mrandint\u001b[0m\u001b[0;34m(\u001b[0m\u001b[0;36m1\u001b[0m\u001b[0;34m,\u001b[0m \u001b[0;36m6\u001b[0m\u001b[0;34m)\u001b[0m \u001b[0;34m+\u001b[0m \u001b[0mrandom\u001b[0m\u001b[0;34m.\u001b[0m\u001b[0mrandint\u001b[0m\u001b[0;34m(\u001b[0m\u001b[0;36m1\u001b[0m\u001b[0;34m,\u001b[0m \u001b[0;36m6\u001b[0m\u001b[0;34m)\u001b[0m\u001b[0;34m\u001b[0m\u001b[0;34m\u001b[0m\u001b[0m\n",
      "\u001b[0;31mKeyboardInterrupt\u001b[0m: "
     ]
    }
   ],
   "source": [
    "print(f'Random strategy:{100*evaluate(random_strategy):.2f}')\n",
    "print(f'Optimal strategy:{100*evaluate(optimal_strategy):.2f}')"
   ]
  },
  {
   "cell_type": "markdown",
   "metadata": {},
   "source": [
    "I can see why this is an addicting game to play, considering even the optimal strategy wins about one every 25 games. The games themselves are fast to play, taking only a few seconds to play (and microseconds to simulate). It looks like a random strategy works less than $1\\%$ of the time and an optimal strategy works around $4\\%$ of the time."
   ]
  },
  {
   "cell_type": "markdown",
   "metadata": {},
   "source": [
    "I hope you all enjoyed figuring this out with me! Computer science is really about thinking problems through in a logical way and applying the techniques you know to solve it. "
   ]
  }
 ],
 "metadata": {
  "kernelspec": {
   "display_name": "Python [conda env:projects] *",
   "language": "python",
   "name": "conda-env-projects-py"
  },
  "language_info": {
   "codemirror_mode": {
    "name": "ipython",
    "version": 3
   },
   "file_extension": ".py",
   "mimetype": "text/x-python",
   "name": "python",
   "nbconvert_exporter": "python",
   "pygments_lexer": "ipython3",
   "version": "3.6.10"
  }
 },
 "nbformat": 4,
 "nbformat_minor": 4
}
