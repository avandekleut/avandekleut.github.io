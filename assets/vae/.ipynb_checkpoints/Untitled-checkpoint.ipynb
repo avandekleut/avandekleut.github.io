{
 "cells": [
  {
   "cell_type": "code",
   "execution_count": 1,
   "metadata": {},
   "outputs": [],
   "source": [
    "import torch.nn as nn\n",
    "import torch.nn.functional as F\n",
    "import torch.utils\n",
    "import torch.distributions\n",
    "import torchvision"
   ]
  },
  {
   "cell_type": "code",
   "execution_count": 2,
   "metadata": {},
   "outputs": [],
   "source": [
    "import numpy as np\n",
    "import matplotlib.pyplot as plt"
   ]
  },
  {
   "cell_type": "code",
   "execution_count": 3,
   "metadata": {},
   "outputs": [],
   "source": [
    "MNIST = torch.utils.data.DataLoader(\n",
    "            torchvision.datasets.MNIST('./data', transform=torchvision.transforms.ToTensor(), download=True),\n",
    "            batch_size=128,\n",
    ")"
   ]
  },
  {
   "cell_type": "code",
   "execution_count": 4,
   "metadata": {},
   "outputs": [],
   "source": [
    "class Encoder(nn.Module):\n",
    "    def __init__(self, latent_dims):\n",
    "        super(Encoder, self).__init__()\n",
    "        self.conv1 = nn.Conv2d(1, 16, 3)\n",
    "        self.conv2 = nn.Conv2d(16, 16, 3)\n",
    "        self.conv3 = nn.Conv2d(16, 10, 3)\n",
    "        self.linear1 = nn.Linear(4840, latent_dims)\n",
    "        self.linear2 = nn.Linear(4840, latent_dims)\n",
    "        \n",
    "    def forward(self, x):\n",
    "        x = F.relu(self.conv1(x))\n",
    "        x = F.relu(self.conv2(x))\n",
    "        x = F.relu(self.conv3(x))\n",
    "        x = torch.flatten(x, start_dim=1)\n",
    "        mu = self.linear1(x)\n",
    "        sigma = self.linear2(x)\n",
    "        return mu, sigma"
   ]
  },
  {
   "cell_type": "code",
   "execution_count": 5,
   "metadata": {},
   "outputs": [],
   "source": [
    "class Decoder(nn.Module):\n",
    "    def __init__(self, latent_dims):\n",
    "        super(Decoder, self).__init__()\n",
    "        self.latent_dims = latent_dims\n",
    "        self.conv1 = nn.ConvTranspose2d(10, 16, 3)\n",
    "        self.conv2 = nn.ConvTranspose2d(16, 16, 3)\n",
    "        self.conv3 = nn.ConvTranspose2d(16, 1, 3)\n",
    "        self.linear = nn.Linear(latent_dims, 4840)\n",
    "        \n",
    "    def forward(self, x):\n",
    "        x = self.linear(x)\n",
    "        x = x.reshape(x.shape[0], 10, 22, 22)\n",
    "        x = F.relu(self.conv1(x))\n",
    "        x = F.relu(self.conv2(x))\n",
    "        return torch.sigmoid(self.conv3(x))"
   ]
  },
  {
   "cell_type": "code",
   "execution_count": 6,
   "metadata": {},
   "outputs": [],
   "source": [
    "class VAE(nn.Module):\n",
    "    def __init__(self, latent_dims):\n",
    "        super(VAE, self).__init__()\n",
    "        self.enc = Encoder(latent_dims)\n",
    "        self.dec = Decoder(latent_dims)\n",
    "        self.N = torch.distributions.Normal(0, 1)\n",
    "        \n",
    "    def forward(self, x):\n",
    "        mu, sigma = self.enc(x)\n",
    "#         z = mu + sigma*self.N.sample(mu.shape)\n",
    "#         x_hat = self.dec(z)\n",
    "        x_hat = self.dec(mu)\n",
    "        kl_divergence = torch.sum(sigma**2 + mu**2 - torch.log(sigma) - 1/2)\n",
    "        return x_hat, kl_divergence"
   ]
  },
  {
   "cell_type": "code",
   "execution_count": 7,
   "metadata": {},
   "outputs": [],
   "source": [
    "def train(data, latent_dims):\n",
    "    vae = VAE(latent_dims)\n",
    "    opt = torch.optim.Adam(vae.parameters())\n",
    "    losses = []\n",
    "    for x, y in data:\n",
    "        opt.zero_grad()\n",
    "        x_hat, kl_divergence = vae(x)\n",
    "        reconstruction_loss = ((x - x_hat)**2).mean()\n",
    "#         loss = kl_divergence + reconstruction_loss\n",
    "        loss = reconstruction_loss\n",
    "        loss.backward()\n",
    "        opt.step()\n",
    "        losses.append(loss)\n",
    "    return vae"
   ]
  },
  {
   "cell_type": "code",
   "execution_count": null,
   "metadata": {},
   "outputs": [
    {
     "name": "stdout",
     "output_type": "stream",
     "text": [
      "112/469: 0.25742208957672127\r"
     ]
    }
   ],
   "source": [
    "vae = VAE(10)\n",
    "opt = torch.optim.Adam(vae.parameters())\n",
    "losses = []\n",
    "for epoch in range(10):\n",
    "    for i, (x, y) in enumerate(MNIST):\n",
    "        opt.zero_grad()\n",
    "        x_hat, kl_divergence = vae(x)\n",
    "    #     reconstruction_loss = ((x - x_hat)**2).mean()\n",
    "        reconstruction_loss = F.binary_cross_entropy(x_hat, x)\n",
    "    #         loss = kl_divergence + reconstruction_loss\n",
    "        loss = reconstruction_loss\n",
    "        loss.backward()\n",
    "        opt.step()\n",
    "        losses.append(loss)\n",
    "        print(f'{i}/{len(MNIST)}: {loss.detach().numpy()}', end='\\r')"
   ]
  },
  {
   "cell_type": "code",
   "execution_count": null,
   "metadata": {},
   "outputs": [],
   "source": [
    "plt.plot(losses)"
   ]
  },
  {
   "cell_type": "code",
   "execution_count": null,
   "metadata": {},
   "outputs": [],
   "source": [
    "plt.imshow(x[20].reshape(28, 28))"
   ]
  },
  {
   "cell_type": "code",
   "execution_count": null,
   "metadata": {},
   "outputs": [],
   "source": [
    "x_hat, _ = vae(x)"
   ]
  },
  {
   "cell_type": "code",
   "execution_count": null,
   "metadata": {},
   "outputs": [],
   "source": [
    "plt.imshow(x_hat.detach().numpy()[20].reshape(28, 28))"
   ]
  },
  {
   "cell_type": "code",
   "execution_count": null,
   "metadata": {},
   "outputs": [],
   "source": []
  }
 ],
 "metadata": {
  "kernelspec": {
   "display_name": "Python [conda env:projects] *",
   "language": "python",
   "name": "conda-env-projects-py"
  },
  "language_info": {
   "codemirror_mode": {
    "name": "ipython",
    "version": 3
   },
   "file_extension": ".py",
   "mimetype": "text/x-python",
   "name": "python",
   "nbconvert_exporter": "python",
   "pygments_lexer": "ipython3",
   "version": "3.6.10"
  }
 },
 "nbformat": 4,
 "nbformat_minor": 4
}
