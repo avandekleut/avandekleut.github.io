{
 "cells": [
  {
   "cell_type": "raw",
   "metadata": {},
   "source": [
    "---\n",
    "permalink: /reinforce/\n",
    "layout: single\n",
    "author_profile: true\n",
    "title: Policy Gradient Theorem and REINFORCE\n",
    "folder: \"reinforce\"\n",
    "ipynb: \"reinforce.ipynb\"\n",
    "excerpt: ##########################\n",
    "header:\n",
    "  teaser: /assets/reinforce/######################\n",
    "---"
   ]
  },
  {
   "cell_type": "code",
   "execution_count": 1,
   "metadata": {},
   "outputs": [],
   "source": [
    "import copy\n",
    "import numpy as np\n",
    "import gym\n",
    "\n",
    "class VectorizedEnvWrapper(gym.Wrapper):\n",
    "    def __init__(self, env, num_envs=1):\n",
    "        '''\n",
    "        env (gym.Env): to make copies of\n",
    "        num_envs (int): number of copies\n",
    "        '''\n",
    "        super().__init__(env)\n",
    "        self.num_envs = num_envs\n",
    "        self.envs = [copy.deepcopy(env) for n in range(num_envs)]\n",
    "    \n",
    "    def reset(self):\n",
    "        '''\n",
    "        Return and reset each environment\n",
    "        '''\n",
    "        return np.asarray([env.reset() for env in self.envs])\n",
    "    \n",
    "    def step(self, actions):\n",
    "        '''\n",
    "        Take a step in the environment and return the result.\n",
    "        actions (torch.tensor)\n",
    "        '''\n",
    "        next_states, rewards, dones = [], [], []\n",
    "        for env, action in zip(self.envs, actions):\n",
    "            next_state, reward, done, _ = env.step(action.item())\n",
    "            if done:\n",
    "                next_states.append(env.reset())\n",
    "            else:\n",
    "                next_states.append(next_state)\n",
    "            rewards.append(reward)\n",
    "            dones.append(done)\n",
    "        return np.asarray(next_states), np.asarray(rewards), \\\n",
    "            np.asarray(dones)"
   ]
  },
  {
   "cell_type": "code",
   "execution_count": 2,
   "metadata": {},
   "outputs": [],
   "source": [
    "\n",
    "import torch\n",
    "\n",
    "class ValueEstimator:\n",
    "    def __init__(self, env, lr=1e-2):\n",
    "        self.N = env.observation_space.shape[0]\n",
    "        self.V = torch.nn.Sequential(\n",
    "            torch.nn.Linear(self.N, 64),\n",
    "            torch.nn.ReLU(),\n",
    "            torch.nn.Linear(64, 64),\n",
    "            torch.nn.ReLU(),\n",
    "            torch.nn.Linear(64, 1)\n",
    "        ).double()\n",
    "\n",
    "        self.opt = torch.optim.Adam(self.V.parameters(), lr=lr)\n",
    "        \n",
    "    def predict(self, s_t):\n",
    "        s_t = torch.tensor(s_t)\n",
    "        return self.V(s_t).squeeze()\n",
    "    \n",
    "    def learn(self, states, returns):\n",
    "        returns = torch.tensor(returns)\n",
    "        V_pred = self.predict(states)\n",
    "        \n",
    "        loss = torch.mean((V_pred - returns)**2)\n",
    "        self.opt.zero_grad()\n",
    "        loss.backward()\n",
    "        self.opt.step()\n",
    "        \n",
    "#         print(np.var(returns.numpy()))\n",
    "#         print(np.var((returns - V_pred).detach().numpy()))\n",
    "#         print()\n",
    "        \n",
    "        return loss"
   ]
  },
  {
   "cell_type": "code",
   "execution_count": 3,
   "metadata": {},
   "outputs": [],
   "source": [
    "class Policy:\n",
    "    def pi(self, s_t):\n",
    "        '''\n",
    "        returns the probability distribution over actions \n",
    "        (torch.distributions.Distribution)\n",
    "        \n",
    "        s_t (np.ndarray): the current state\n",
    "        '''\n",
    "        raise NotImplementedError\n",
    "    \n",
    "    def act(self, s_t):\n",
    "        '''\n",
    "        s_t (np.ndarray): the current state\n",
    "        Because of environment vectorization, this will produce\n",
    "        E actions where E is the number of parallel environments.\n",
    "        '''\n",
    "        a_t = self.pi(s_t).sample()\n",
    "        return a_t\n",
    "    \n",
    "    def learn(self, states, actions, advantages):\n",
    "        '''\n",
    "        states (np.ndarray): the list of states encountered during\n",
    "                             rollout\n",
    "        actions (np.ndarray): the list of actions encountered during\n",
    "                              rollout\n",
    "        advantages (np.ndarray): the list of advantages encountered during\n",
    "                              rollout\n",
    "        \n",
    "        Because of environment vectorization, each of these has first\n",
    "        two dimensions TxE where T is the number of time steps in the\n",
    "        rollout and E is the number of parallel environments.\n",
    "        '''\n",
    "        actions = torch.tensor(actions)\n",
    "        advantages = torch.tensor(advantages)\n",
    "\n",
    "        log_prob = self.pi(states).log_prob(actions)\n",
    "        loss = torch.mean(-log_prob*advantages)\n",
    "        self.opt.zero_grad()\n",
    "        loss.backward()\n",
    "        self.opt.step()\n",
    "        \n",
    "        return loss"
   ]
  },
  {
   "cell_type": "code",
   "execution_count": 4,
   "metadata": {},
   "outputs": [],
   "source": [
    "class DiagonalGaussianPolicy(Policy):\n",
    "    def __init__(self, env, lr=1e-2):\n",
    "        '''\n",
    "        env (gym.Env): the environment\n",
    "        lr (float): learning rate\n",
    "        '''\n",
    "        self.N = env.observation_space.shape[0]\n",
    "        self.M = env.action_space.shape[0]\n",
    "        \n",
    "        self.mu = torch.nn.Sequential(\n",
    "            torch.nn.Linear(self.N, 64),\n",
    "            torch.nn.ReLU(),\n",
    "            torch.nn.Linear(64, 64),\n",
    "            torch.nn.ReLU(),\n",
    "            torch.nn.Linear(64, self.M)\n",
    "        ).double()\n",
    "\n",
    "        self.log_sigma = torch.ones(self.M, dtype=torch.double, requires_grad=True)\n",
    "\n",
    "        self.opt = torch.optim.Adam(list(self.mu.parameters()) + [self.log_sigma], lr=lr)\n",
    "        \n",
    "    def pi(self, s_t):\n",
    "        '''\n",
    "        returns the probability distribution over actions\n",
    "        s_t (np.ndarray): the current state\n",
    "        '''\n",
    "        s_t = torch.as_tensor(s_t).double()\n",
    "        mu = self.mu(s_t)\n",
    "        log_sigma = self.log_sigma\n",
    "        sigma = torch.exp(log_sigma)\n",
    "        pi = torch.distributions.MultivariateNormal(mu, torch.diag(sigma))\n",
    "        return pi"
   ]
  },
  {
   "cell_type": "code",
   "execution_count": 5,
   "metadata": {},
   "outputs": [],
   "source": [
    "class CategoricalPolicy(Policy):\n",
    "    def __init__(self, env, lr=1e-2):\n",
    "        '''\n",
    "        env (gym.Env): the environment\n",
    "        lr (float): learning rate\n",
    "        '''\n",
    "        self.N = env.observation_space.shape[0]\n",
    "        self.M = env.action_space.n\n",
    "        self.p = torch.nn.Sequential(\n",
    "            torch.nn.Linear(self.N, self.M),\n",
    "        ).double()\n",
    "        \n",
    "        self.opt = torch.optim.Adam(self.p.parameters(), lr=lr)\n",
    "        \n",
    "    def pi(self, s_t):\n",
    "        '''\n",
    "        returns the probability distribution over actions\n",
    "        s_t (np.ndarray): the current state\n",
    "        '''\n",
    "        s_t = torch.as_tensor(s_t).double()\n",
    "        p = self.p(s_t)\n",
    "        pi = torch.distributions.Categorical(logits=p)\n",
    "        return pi"
   ]
  },
  {
   "cell_type": "code",
   "execution_count": 6,
   "metadata": {},
   "outputs": [],
   "source": [
    "def calculate_returns(rewards, dones, gamma):\n",
    "    result = np.empty_like(rewards)\n",
    "    result[-1] = rewards[-1]\n",
    "    for t in range(len(rewards)-2, -1, -1):\n",
    "        result[t] = rewards[t] + gamma*(1-dones[t])*result[t+1]\n",
    "    return result"
   ]
  },
  {
   "cell_type": "code",
   "execution_count": null,
   "metadata": {},
   "outputs": [],
   "source": []
  },
  {
   "cell_type": "code",
   "execution_count": 7,
   "metadata": {},
   "outputs": [],
   "source": [
    "import seaborn as sns; sns.set()\n",
    "\n",
    "def A2C(env, agent, value_estimator, gamma=0.99, epochs=100, T=1000):    \n",
    "    # for learning    \n",
    "    states = np.empty((T, env.num_envs, agent.N))\n",
    "    if isinstance(env.action_space, gym.spaces.Discrete):\n",
    "        # discrete action spaces only need to store a \n",
    "        # scalar for each action.\n",
    "        actions = np.empty((T, env.num_envs))\n",
    "    else:\n",
    "        # continuous action spaces need to store a \n",
    "        # vector for each eaction.\n",
    "        actions = np.empty((T, env.num_envs, agent.M))\n",
    "    rewards = np.empty((T, env.num_envs))\n",
    "    dones = np.empty((T, env.num_envs))\n",
    "    \n",
    "    # for plotting\n",
    "    totals = []\n",
    "    \n",
    "    for epoch in range(epochs):\n",
    "        s_t = env.reset()\n",
    "\n",
    "        for t in range(T):\n",
    "            a_t = agent.act(s_t)\n",
    "            s_t_next, r_t, d_t = env.step(a_t)\n",
    "\n",
    "            # for learning\n",
    "            states[t] = s_t\n",
    "            actions[t] = a_t\n",
    "            rewards[t] = r_t\n",
    "            dones[t] = d_t\n",
    "\n",
    "            s_t = s_t_next\n",
    "        \n",
    "        returns = calculate_returns(rewards, dones, gamma)\n",
    "\n",
    "        value_estimator.learn(states, returns)\n",
    "        advantages = torch.tensor(returns) - value_estimator.predict(states)\n",
    "        agent.learn(states, actions, advantages)\n",
    "        \n",
    "        # for plotting\n",
    "        # average reward = total reward/number of episodes\n",
    "        totals.append(rewards.sum()/dones.sum())\n",
    "        print(f'{epoch}/{epochs}:{totals[-1]}\\r', end='')\n",
    "        \n",
    "    sns.lineplot(x=range(len(totals)), y=totals)\n",
    "            \n",
    "    return agent"
   ]
  },
  {
   "cell_type": "code",
   "execution_count": 8,
   "metadata": {
    "scrolled": true
   },
   "outputs": [
    {
     "name": "stderr",
     "output_type": "stream",
     "text": [
      "/opt/miniconda3/envs/rl/lib/python3.7/site-packages/ipykernel_launcher.py:34: UserWarning: To copy construct from a tensor, it is recommended to use sourceTensor.clone().detach() or sourceTensor.clone().detach().requires_grad_(True), rather than torch.tensor(sourceTensor).\n"
     ]
    },
    {
     "name": "stdout",
     "output_type": "stream",
     "text": [
      "57/100:200.05776397515529\r"
     ]
    },
    {
     "ename": "KeyboardInterrupt",
     "evalue": "",
     "output_type": "error",
     "traceback": [
      "\u001b[0;31m---------------------------------------------------------------------------\u001b[0m",
      "\u001b[0;31mKeyboardInterrupt\u001b[0m                         Traceback (most recent call last)",
      "\u001b[0;32m<ipython-input-8-7648e8a2ae3f>\u001b[0m in \u001b[0;36m<module>\u001b[0;34m\u001b[0m\n\u001b[1;32m      2\u001b[0m \u001b[0magent\u001b[0m \u001b[0;34m=\u001b[0m \u001b[0mCategoricalPolicy\u001b[0m\u001b[0;34m(\u001b[0m\u001b[0menv\u001b[0m\u001b[0;34m,\u001b[0m \u001b[0mlr\u001b[0m\u001b[0;34m=\u001b[0m\u001b[0;36m1e-1\u001b[0m\u001b[0;34m)\u001b[0m\u001b[0;34m\u001b[0m\u001b[0;34m\u001b[0m\u001b[0m\n\u001b[1;32m      3\u001b[0m \u001b[0mvalue_estimator\u001b[0m \u001b[0;34m=\u001b[0m \u001b[0mValueEstimator\u001b[0m\u001b[0;34m(\u001b[0m\u001b[0menv\u001b[0m\u001b[0;34m,\u001b[0m \u001b[0mlr\u001b[0m\u001b[0;34m=\u001b[0m\u001b[0;36m1e-3\u001b[0m\u001b[0;34m)\u001b[0m\u001b[0;34m\u001b[0m\u001b[0;34m\u001b[0m\u001b[0m\n\u001b[0;32m----> 4\u001b[0;31m \u001b[0magent\u001b[0m \u001b[0;34m=\u001b[0m \u001b[0mA2C\u001b[0m\u001b[0;34m(\u001b[0m\u001b[0menv\u001b[0m\u001b[0;34m,\u001b[0m \u001b[0magent\u001b[0m\u001b[0;34m,\u001b[0m \u001b[0mvalue_estimator\u001b[0m\u001b[0;34m,\u001b[0m \u001b[0mepochs\u001b[0m\u001b[0;34m=\u001b[0m\u001b[0;36m100\u001b[0m\u001b[0;34m)\u001b[0m\u001b[0;34m\u001b[0m\u001b[0;34m\u001b[0m\u001b[0m\n\u001b[0m",
      "\u001b[0;32m<ipython-input-7-f5e4f8527e6b>\u001b[0m in \u001b[0;36mA2C\u001b[0;34m(env, agent, value_estimator, gamma, epochs, T)\u001b[0m\n\u001b[1;32m     23\u001b[0m         \u001b[0;32mfor\u001b[0m \u001b[0mt\u001b[0m \u001b[0;32min\u001b[0m \u001b[0mrange\u001b[0m\u001b[0;34m(\u001b[0m\u001b[0mT\u001b[0m\u001b[0;34m)\u001b[0m\u001b[0;34m:\u001b[0m\u001b[0;34m\u001b[0m\u001b[0;34m\u001b[0m\u001b[0m\n\u001b[1;32m     24\u001b[0m             \u001b[0ma_t\u001b[0m \u001b[0;34m=\u001b[0m \u001b[0magent\u001b[0m\u001b[0;34m.\u001b[0m\u001b[0mact\u001b[0m\u001b[0;34m(\u001b[0m\u001b[0ms_t\u001b[0m\u001b[0;34m)\u001b[0m\u001b[0;34m\u001b[0m\u001b[0;34m\u001b[0m\u001b[0m\n\u001b[0;32m---> 25\u001b[0;31m             \u001b[0ms_t_next\u001b[0m\u001b[0;34m,\u001b[0m \u001b[0mr_t\u001b[0m\u001b[0;34m,\u001b[0m \u001b[0md_t\u001b[0m \u001b[0;34m=\u001b[0m \u001b[0menv\u001b[0m\u001b[0;34m.\u001b[0m\u001b[0mstep\u001b[0m\u001b[0;34m(\u001b[0m\u001b[0ma_t\u001b[0m\u001b[0;34m)\u001b[0m\u001b[0;34m\u001b[0m\u001b[0;34m\u001b[0m\u001b[0m\n\u001b[0m\u001b[1;32m     26\u001b[0m \u001b[0;34m\u001b[0m\u001b[0m\n\u001b[1;32m     27\u001b[0m             \u001b[0;31m# for learning\u001b[0m\u001b[0;34m\u001b[0m\u001b[0;34m\u001b[0m\u001b[0;34m\u001b[0m\u001b[0m\n",
      "\u001b[0;31mKeyboardInterrupt\u001b[0m: "
     ]
    }
   ],
   "source": [
    "env = VectorizedEnvWrapper(gym.make(\"CartPole-v0\"), num_envs=32)\n",
    "agent = CategoricalPolicy(env, lr=1e-1)\n",
    "value_estimator = ValueEstimator(env, lr=1e-3)\n",
    "agent = A2C(env, agent, value_estimator, epochs=100)"
   ]
  },
  {
   "cell_type": "code",
   "execution_count": 32,
   "metadata": {
    "scrolled": true
   },
   "outputs": [
    {
     "name": "stderr",
     "output_type": "stream",
     "text": [
      "/opt/miniconda3/envs/rl/lib/python3.7/site-packages/ipykernel_launcher.py:34: UserWarning: To copy construct from a tensor, it is recommended to use sourceTensor.clone().detach() or sourceTensor.clone().detach().requires_grad_(True), rather than torch.tensor(sourceTensor).\n"
     ]
    },
    {
     "name": "stdout",
     "output_type": "stream",
     "text": [
      "19/20:32.435141256555586\r"
     ]
    },
    {
     "data": {
      "image/png": "[encoded data removed]",
      "text/plain": [
       "<Figure size 432x288 with 1 Axes>"
      ]
     },
     "metadata": {},
     "output_type": "display_data"
    }
   ],
   "source": [
    "import gym_cartpole_swingup\n",
    "env = VectorizedEnvWrapper(gym.make(\"CartPoleSwingUp-v0\"), num_envs=512)\n",
    "agent = DiagonalGaussianPolicy(env, lr=1e-2)\n",
    "value_estimator = ValueEstimator(env, lr=1e-1)\n",
    "agent = A2C(env, agent, value_estimator, gamma=0.9999, epochs=100)"
   ]
  },
  {
   "cell_type": "code",
   "execution_count": 45,
   "metadata": {},
   "outputs": [],
   "source": [
    "import imageio\n",
    "\n",
    "def generate_gif(env, agent, filename, T=200):\n",
    "    frames = []\n",
    "    s_t = env.reset()\n",
    "    for t in range(T):\n",
    "        a_t = agent.act(s_t)\n",
    "        s_t, r_t, d_t = env.step(a_t)\n",
    "        frame = env.envs[0].render(mode='rgb_array')\n",
    "        frames.append(frame)\n",
    "\n",
    "    images_list = [Image.fromarray(frame) for frame in frames]\n",
    "    imageio.mimsave(f'{filename}.gif', frames, duration=0.02)"
   ]
  },
  {
   "cell_type": "code",
   "execution_count": 46,
   "metadata": {},
   "outputs": [],
   "source": [
    "generate_gif(env, agent, 'cartpole-swingup')"
   ]
  },
  {
   "cell_type": "code",
   "execution_count": null,
   "metadata": {},
   "outputs": [],
   "source": []
  }
 ],
 "metadata": {
  "kernelspec": {
   "display_name": "Python 3",
   "language": "python",
   "name": "python3"
  },
  "language_info": {
   "codemirror_mode": {
    "name": "ipython",
    "version": 3
   },
   "file_extension": ".py",
   "mimetype": "text/x-python",
   "name": "python",
   "nbconvert_exporter": "python",
   "pygments_lexer": "ipython3",
   "version": "3.7.7"
  }
 },
 "nbformat": 4,
 "nbformat_minor": 4
}
